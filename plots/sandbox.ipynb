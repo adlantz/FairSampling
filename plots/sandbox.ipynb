{
 "cells": [
  {
   "cell_type": "code",
   "execution_count": 34,
   "metadata": {},
   "outputs": [],
   "source": [
    "import pandas as pd\n",
    "import sqlite3\n",
    "import matplotlib.pyplot as plt\n",
    "import numpy as np\n",
    "\n",
    "DB_PATH = '../database/fair_sampling.db'"
   ]
  },
  {
   "cell_type": "code",
   "execution_count": 42,
   "metadata": {},
   "outputs": [],
   "source": [
    "# Establish a connection to the SQLite database\n",
    "conn = sqlite3.connect(DB_PATH)\n",
    "\n",
    "# Define your SQL query\n",
    "\n",
    "query  = \"\"\"\n",
    "\n",
    "SELECT seed, od_variance, post_anneal_od_variance FROM instances_N8\n",
    "WHERE post_anneal_od_variance IS NOT NULL;\n",
    "\n",
    "\"\"\"\n",
    "\n",
    "# Execute the query and read the data into a pandas DataFrame\n",
    "df = pd.read_sql_query(query, conn)\n",
    "\n",
    "# Close the database connection\n",
    "conn.close()"
   ]
  },
  {
   "cell_type": "code",
   "execution_count": 46,
   "metadata": {},
   "outputs": [
    {
     "data": {
      "text/html": [
       "<div>\n",
       "<style scoped>\n",
       "    .dataframe tbody tr th:only-of-type {\n",
       "        vertical-align: middle;\n",
       "    }\n",
       "\n",
       "    .dataframe tbody tr th {\n",
       "        vertical-align: top;\n",
       "    }\n",
       "\n",
       "    .dataframe thead th {\n",
       "        text-align: right;\n",
       "    }\n",
       "</style>\n",
       "<table border=\"1\" class=\"dataframe\">\n",
       "  <thead>\n",
       "    <tr style=\"text-align: right;\">\n",
       "      <th></th>\n",
       "      <th>seed</th>\n",
       "      <th>od_variance</th>\n",
       "      <th>post_anneal_od_variance</th>\n",
       "    </tr>\n",
       "  </thead>\n",
       "  <tbody>\n",
       "    <tr>\n",
       "      <th>0</th>\n",
       "      <td>152</td>\n",
       "      <td>0.20139</td>\n",
       "      <td>0.05556</td>\n",
       "    </tr>\n",
       "    <tr>\n",
       "      <th>1</th>\n",
       "      <td>156</td>\n",
       "      <td>0.20139</td>\n",
       "      <td>0.05556</td>\n",
       "    </tr>\n",
       "    <tr>\n",
       "      <th>2</th>\n",
       "      <td>231</td>\n",
       "      <td>0.20139</td>\n",
       "      <td>0.05556</td>\n",
       "    </tr>\n",
       "    <tr>\n",
       "      <th>3</th>\n",
       "      <td>243</td>\n",
       "      <td>0.20139</td>\n",
       "      <td>0.05556</td>\n",
       "    </tr>\n",
       "    <tr>\n",
       "      <th>4</th>\n",
       "      <td>348</td>\n",
       "      <td>0.20139</td>\n",
       "      <td>0.05556</td>\n",
       "    </tr>\n",
       "    <tr>\n",
       "      <th>...</th>\n",
       "      <td>...</td>\n",
       "      <td>...</td>\n",
       "      <td>...</td>\n",
       "    </tr>\n",
       "    <tr>\n",
       "      <th>97</th>\n",
       "      <td>9453</td>\n",
       "      <td>0.20139</td>\n",
       "      <td>0.05556</td>\n",
       "    </tr>\n",
       "    <tr>\n",
       "      <th>98</th>\n",
       "      <td>9548</td>\n",
       "      <td>0.20139</td>\n",
       "      <td>0.05556</td>\n",
       "    </tr>\n",
       "    <tr>\n",
       "      <th>99</th>\n",
       "      <td>9621</td>\n",
       "      <td>0.20139</td>\n",
       "      <td>0.05556</td>\n",
       "    </tr>\n",
       "    <tr>\n",
       "      <th>100</th>\n",
       "      <td>9815</td>\n",
       "      <td>0.20139</td>\n",
       "      <td>0.05556</td>\n",
       "    </tr>\n",
       "    <tr>\n",
       "      <th>101</th>\n",
       "      <td>9924</td>\n",
       "      <td>0.20139</td>\n",
       "      <td>0.05556</td>\n",
       "    </tr>\n",
       "  </tbody>\n",
       "</table>\n",
       "<p>102 rows × 3 columns</p>\n",
       "</div>"
      ],
      "text/plain": [
       "     seed  od_variance  post_anneal_od_variance\n",
       "0     152      0.20139                  0.05556\n",
       "1     156      0.20139                  0.05556\n",
       "2     231      0.20139                  0.05556\n",
       "3     243      0.20139                  0.05556\n",
       "4     348      0.20139                  0.05556\n",
       "..    ...          ...                      ...\n",
       "97   9453      0.20139                  0.05556\n",
       "98   9548      0.20139                  0.05556\n",
       "99   9621      0.20139                  0.05556\n",
       "100  9815      0.20139                  0.05556\n",
       "101  9924      0.20139                  0.05556\n",
       "\n",
       "[102 rows x 3 columns]"
      ]
     },
     "execution_count": 46,
     "metadata": {},
     "output_type": "execute_result"
    }
   ],
   "source": [
    "df"
   ]
  },
  {
   "cell_type": "code",
   "execution_count": 50,
   "metadata": {},
   "outputs": [
    {
     "name": "stdout",
     "output_type": "stream",
     "text": [
      "0.2012256862745098\n",
      "0.05691607843137256\n"
     ]
    }
   ],
   "source": [
    "print(df[\"od_variance\"].mean())\n",
    "print(df[\"post_anneal_od_variance\"].mean())"
   ]
  },
  {
   "cell_type": "code",
   "execution_count": 41,
   "metadata": {},
   "outputs": [
    {
     "data": {
      "image/png": "[encoded data removed]",
      "text/plain": [
       "<Figure size 640x480 with 1 Axes>"
      ]
     },
     "metadata": {},
     "output_type": "display_data"
    }
   ],
   "source": [
    "# Establish a connection to the SQLite database\n",
    "conn = sqlite3.connect(DB_PATH)\n",
    "\n",
    "# Define your SQL query\n",
    "\n",
    "query  = \"\"\"\n",
    "\n",
    "SELECT seed, od_variance, post_anneal_supp_ratio FROM instances_N8\n",
    "WHERE degeneracy > 2\n",
    "\n",
    "\"\"\"\n",
    "\n",
    "# Execute the query and read the data into a pandas DataFrame\n",
    "df = pd.read_sql_query(query, conn)\n",
    "\n",
    "# Close the database connection\n",
    "conn.close()\n",
    "\n",
    "plt.scatter(df[\"od_variance\"], df[\"post_anneal_supp_ratio\"])\n",
    "\n",
    "# Fit line (linear regression)\n",
    "# Using numpy's polyfit function to fit a line\n",
    "slope, intercept = np.polyfit(df[\"od_variance\"], df[\"post_anneal_supp_ratio\"], 1)\n",
    "\n",
    "# Calculate the predicted values\n",
    "fit_line = slope * df[\"od_variance\"] + intercept\n",
    "\n",
    "# Plot the fit line\n",
    "plt.plot(df[\"od_variance\"], fit_line, color='red', label=f'fit slope {round(slope,5)}')\n",
    "\n",
    "plt.legend()\n",
    "\n",
    "plt.show()"
   ]
  },
  {
   "cell_type": "code",
   "execution_count": null,
   "metadata": {},
   "outputs": [],
   "source": []
  }
 ],
 "metadata": {
  "kernelspec": {
   "display_name": "Python 3",
   "language": "python",
   "name": "python3"
  },
  "language_info": {
   "codemirror_mode": {
    "name": "ipython",
    "version": 3
   },
   "file_extension": ".py",
   "mimetype": "text/x-python",
   "name": "python",
   "nbconvert_exporter": "python",
   "pygments_lexer": "ipython3",
   "version": "3.12.2"
  }
 },
 "nbformat": 4,
 "nbformat_minor": 2
}
