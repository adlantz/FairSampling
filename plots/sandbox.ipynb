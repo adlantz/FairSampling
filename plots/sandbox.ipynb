{
 "cells": [
  {
   "cell_type": "code",
   "execution_count": 2,
   "metadata": {},
   "outputs": [],
   "source": [
    "import pandas as pd\n",
    "import sqlite3\n",
    "import matplotlib.pyplot as plt\n",
    "import numpy as np\n",
    "\n",
    "DB_PATH = '../database/fair_sampling.db'"
   ]
  },
  {
   "cell_type": "code",
   "execution_count": 33,
   "metadata": {},
   "outputs": [],
   "source": [
    "# Establish a connection to the SQLite database\n",
    "conn = sqlite3.connect(DB_PATH)\n",
    "\n",
    "# Define your SQL query\n",
    "\n",
    "query  = \"\"\"\n",
    "\n",
    "SELECT COUNT(*) as num_instances, AVG(od_variance), AVG(od_mean), AVG(post_anneal_od_variance), AVG(post_anneal_od_mean) FROM instances_N12\n",
    "WHERE post_anneal_od_variance IS NOT NULL AND post_anneal_supp_ratio > 0.9 and degeneracy >= 6;\n",
    "\n",
    "\"\"\"\n",
    "\n",
    "# Execute the query and read the data into a pandas DataFrame\n",
    "df = pd.read_sql_query(query, conn)\n",
    "\n",
    "# Close the database connection\n",
    "conn.close()"
   ]
  },
  {
   "cell_type": "code",
   "execution_count": 34,
   "metadata": {},
   "outputs": [
    {
     "data": {
      "text/html": [
       "<div>\n",
       "<style scoped>\n",
       "    .dataframe tbody tr th:only-of-type {\n",
       "        vertical-align: middle;\n",
       "    }\n",
       "\n",
       "    .dataframe tbody tr th {\n",
       "        vertical-align: top;\n",
       "    }\n",
       "\n",
       "    .dataframe thead th {\n",
       "        text-align: right;\n",
       "    }\n",
       "</style>\n",
       "<table border=\"1\" class=\"dataframe\">\n",
       "  <thead>\n",
       "    <tr style=\"text-align: right;\">\n",
       "      <th></th>\n",
       "      <th>num_instances</th>\n",
       "      <th>AVG(od_variance)</th>\n",
       "      <th>AVG(od_mean)</th>\n",
       "      <th>AVG(post_anneal_od_variance)</th>\n",
       "      <th>AVG(post_anneal_od_mean)</th>\n",
       "    </tr>\n",
       "  </thead>\n",
       "  <tbody>\n",
       "    <tr>\n",
       "      <th>0</th>\n",
       "      <td>55</td>\n",
       "      <td>0.141767</td>\n",
       "      <td>0.523916</td>\n",
       "      <td>0.034404</td>\n",
       "      <td>0.789272</td>\n",
       "    </tr>\n",
       "  </tbody>\n",
       "</table>\n",
       "</div>"
      ],
      "text/plain": [
       "   num_instances  AVG(od_variance)  AVG(od_mean)  \\\n",
       "0             55          0.141767      0.523916   \n",
       "\n",
       "   AVG(post_anneal_od_variance)  AVG(post_anneal_od_mean)  \n",
       "0                      0.034404                  0.789272  "
      ]
     },
     "execution_count": 34,
     "metadata": {},
     "output_type": "execute_result"
    }
   ],
   "source": [
    "df"
   ]
  },
  {
   "cell_type": "code",
   "execution_count": 11,
   "metadata": {},
   "outputs": [
    {
     "name": "stdout",
     "output_type": "stream",
     "text": [
      "0.02887984435797666\n",
      "0.04358470817120623\n"
     ]
    }
   ],
   "source": [
    "print(df[\"od_variance\"].mean())\n",
    "print(df[\"post_anneal_od_variance\"].mean())"
   ]
  },
  {
   "cell_type": "code",
   "execution_count": 18,
   "metadata": {},
   "outputs": [
    {
     "data": {
      "image/png": "[encoded data removed]",
      "text/plain": [
       "<Figure size 640x480 with 1 Axes>"
      ]
     },
     "metadata": {},
     "output_type": "display_data"
    }
   ],
   "source": [
    "# Establish a connection to the SQLite database\n",
    "conn = sqlite3.connect(DB_PATH)\n",
    "\n",
    "# Define your SQL query\n",
    "\n",
    "query  = \"\"\"\n",
    "\n",
    "SELECT seed, od_variance, post_anneal_supp_ratio FROM instances_N8\n",
    "WHERE degeneracy > 2\n",
    "\n",
    "\"\"\"\n",
    "\n",
    "# Execute the query and read the data into a pandas DataFrame\n",
    "df = pd.read_sql_query(query, conn)\n",
    "\n",
    "# Close the database connection\n",
    "conn.close()\n",
    "\n",
    "plt.scatter(df[\"od_variance\"], df[\"post_anneal_supp_ratio\"])\n",
    "\n",
    "# Fit line (linear regression)\n",
    "# Using numpy's polyfit function to fit a line\n",
    "slope, intercept = np.polyfit(df[\"od_variance\"], df[\"post_anneal_supp_ratio\"], 1)\n",
    "\n",
    "# Calculate the predicted values\n",
    "fit_line = slope * df[\"od_variance\"] + intercept\n",
    "\n",
    "# Plot the fit line\n",
    "plt.plot(df[\"od_variance\"], fit_line, color='red', label=f'fit slope {round(slope,5)}')\n",
    "\n",
    "plt.legend()\n",
    "\n",
    "plt.show()"
   ]
  },
  {
   "cell_type": "code",
   "execution_count": null,
   "metadata": {},
   "outputs": [],
   "source": [
    "\"\"\"\n",
    "Notes\n",
    "\n",
    "What is happening when h is too low and the ground state probabilities go haywire?\n",
    "How do we determine the appropriate h for each instance programmatically?\n",
    "\n",
    "Once we have the appropriate h, how do we consider softly suppressed ground states in our analysis?\n",
    "\n",
    "\"\"\""
   ]
  }
 ],
 "metadata": {
  "kernelspec": {
   "display_name": "Python 3",
   "language": "python",
   "name": "python3"
  },
  "language_info": {
   "codemirror_mode": {
    "name": "ipython",
    "version": 3
   },
   "file_extension": ".py",
   "mimetype": "text/x-python",
   "name": "python",
   "nbconvert_exporter": "python",
   "pygments_lexer": "ipython3",
   "version": "3.12.2"
  }
 },
 "nbformat": 4,
 "nbformat_minor": 2
}
