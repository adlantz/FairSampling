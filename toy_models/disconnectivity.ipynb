{
 "cells": [
  {
   "cell_type": "code",
   "execution_count": 4,
   "metadata": {},
   "outputs": [],
   "source": [
    "\n",
    "import matplotlib.pyplot as plt\n",
    "import numpy as np\n",
    "import itertools as it\n",
    "from math import pi\n",
    "     \n",
    "\n",
    "from qutip import *\n",
    "from scipy import *"
   ]
  },
  {
   "cell_type": "code",
   "execution_count": 56,
   "metadata": {},
   "outputs": [],
   "source": [
    "toy_models = {\n",
    "            \"1\":\n",
    "               {\n",
    "                   \"j_map\" : [[0,1,1,-1,0],[1,0,1,0,-1],[1,1,0,1,1],[-1,0,1,0,1],[0,-1,1,1,0]],\n",
    "                   \"gs_indeces\": [  {\"i\":0, \"suppressed\": True},\n",
    "                                    {\"i\":3, \"suppressed\": False},\n",
    "                                    {\"i\":7, \"suppressed\": False}]\n",
    "                   },\n",
    "            \"2\": {\n",
    "                    \"j_map\" : [[0,2,1,2,1],[2,0,-2,-1,1],[1,-2,0,1,2],[2,-1,1,0,-2],[1,1,2,-2,0]],\n",
    "                    \"gs_indeces\": [{\"i\":0, \"suppressed\": False},\n",
    "                                    {\"i\":2, \"suppressed\": False},\n",
    "                                    {\"i\":5, \"suppressed\": True},\n",
    "                                    {\"i\":6, \"suppressed\": False},\n",
    "                                    {\"i\":8, \"suppressed\": False},\n",
    "                                    {\"i\":9, \"suppressed\": False}]\n",
    "                },\n",
    "            \"3\": {\n",
    "                    \"j_map\" : [[0,0,1,0,0,0],[0,0,0,1,0,0],[1,0,0,-1,1,-1],[0,1,-1,0,1,-1],[0,0,1,1,0,1], [0,0,-1,-1,1,0]],\n",
    "                    \"gs_indeces\": [{\"i\":1, \"suppressed\": True},\n",
    "                                    {\"i\":20, \"suppressed\": False},\n",
    "                                    {\"i\":23, \"suppressed\": False}]\n",
    "                },\n",
    "\n",
    "            \"4\": {\n",
    "                    \"j_map\" : [[0,1,0,0],[0,0,-1,-1],[0,-1,0,-1],[0,-1,-1,0]],\n",
    "                    \"gs_indeces\": [{\"i\":1, \"suppressed\": True},\n",
    "                                    {\"i\":2, \"suppressed\": True},\n",
    "                                    {\"i\":3, \"suppressed\": False}]\n",
    "                },\n",
    "\n",
    "            \n",
    "            \n",
    "            }\n",
    "\n",
    "\n",
    "t_i = \"4\"\n",
    "\n",
    "model = toy_models[t_i]\n",
    "j_map = model[\"j_map\"]\n",
    "gs_indeces = model[\"gs_indeces\"]\n",
    "N = len(j_map[0])"
   ]
  },
  {
   "cell_type": "code",
   "execution_count": 57,
   "metadata": {},
   "outputs": [
    {
     "name": "stdout",
     "output_type": "stream",
     "text": [
      "Quantum object: dims=[[2, 2, 2, 2], [1, 1, 1, 1]], shape=(16, 1), type='ket', dtype=Dense\n",
      "Qobj data =\n",
      "[[0.        ]\n",
      " [0.57735027]\n",
      " [0.57735027]\n",
      " [0.57735027]\n",
      " [0.        ]\n",
      " [0.        ]\n",
      " [0.        ]\n",
      " [0.        ]\n",
      " [0.        ]\n",
      " [0.        ]\n",
      " [0.        ]\n",
      " [0.        ]\n",
      " [0.        ]\n",
      " [0.        ]\n",
      " [0.        ]\n",
      " [0.        ]]\n"
     ]
    },
    {
     "data": {
      "text/plain": [
       "[[[(0, 1), -0.0],\n",
       "  [(0, 2), 0.381264],\n",
       "  [(0, 3), 0.381264],\n",
       "  [(1, 2), 0.381264],\n",
       "  [(1, 3), 0.381264],\n",
       "  [(2, 3), -0.0]]]"
      ]
     },
     "execution_count": 57,
     "metadata": {},
     "output_type": "execute_result"
    }
   ],
   "source": [
    "# Generate \"artificial\" fair sampling state\n",
    "\n",
    "N = len(toy_models[t_i][\"j_map\"][0])\n",
    "\n",
    "fair_sampling_gs = np.zeros([2**N,1])\n",
    "gs_size = len(toy_models[t_i][\"gs_indeces\"])\n",
    "\n",
    "\n",
    "\n",
    "for gs in toy_models[t_i][\"gs_indeces\"]:\n",
    "    fair_sampling_gs[gs[\"i\"]] = 1/np.sqrt(gs_size)\n",
    "    # fair_sampling_gs[(2**N) - 1 - gs[\"i\"]] = 1/np.sqrt(gs_size)\n",
    "\n",
    "\n",
    "fair_sampling_gs = Qobj(fair_sampling_gs, dims = [[2 for i in range(N)], [1 for i in range(N)]])\n",
    "print(fair_sampling_gs)\n",
    "\n",
    "\n",
    "entropy_vals = []\n",
    "entropy_vals.append(\n",
    "    [\n",
    "        [bp,round(entropy_vn(fair_sampling_gs.ptrace(list(bp))),6)]\n",
    "        for bp in list(it.combinations(range(N), int(np.ceil(N/2))))\n",
    "    ]\n",
    ")\n",
    "entropy_vals"
   ]
  },
  {
   "cell_type": "code",
   "execution_count": 58,
   "metadata": {},
   "outputs": [
    {
     "data": {
      "image/png": "[encoded data removed]",
      "text/plain": [
       "<Figure size 640x480 with 1 Axes>"
      ]
     },
     "metadata": {},
     "output_type": "display_data"
    },
    {
     "name": "stdout",
     "output_type": "stream",
     "text": [
      "[1.0, 1.464, 1.464, 1.464, 1.464, 1.0]\n"
     ]
    }
   ],
   "source": [
    "\n",
    "# Pull raw entanglement entropy values out of results. Round to 3 decimal places so that hist bins aren't over precise\n",
    "ee_vals = [round(np.e ** bp_e[1],3) for bp_e in entropy_vals[0]]\n",
    "\n",
    "plt.hist(ee_vals)\n",
    "plt.xlim(0,max(ee_vals)*1.5)\n",
    "\n",
    "plt.title('Entanglement Entropies Histogram')\n",
    "plt.ylabel('Number of Bipartitions')\n",
    "plt.xlabel(\"exp(VN Entanglement Entropy)\")\n",
    "plt.show()\n",
    "print(ee_vals)"
   ]
  },
  {
   "cell_type": "code",
   "execution_count": 59,
   "metadata": {},
   "outputs": [
    {
     "data": {
      "text/plain": [
       "{2: [{'bp': [0, 1],\n",
       "   's_m': -0.0,\n",
       "   'min_sub_bp': [0],\n",
       "   'min_sub_s': -0.0,\n",
       "   'delta_m': 1},\n",
       "  {'bp': [0, 2],\n",
       "   's_m': 0.38126,\n",
       "   'min_sub_bp': [0],\n",
       "   'min_sub_s': -0.0,\n",
       "   'delta_m': 1},\n",
       "  {'bp': [0, 3],\n",
       "   's_m': 0.38126,\n",
       "   'min_sub_bp': [0],\n",
       "   'min_sub_s': -0.0,\n",
       "   'delta_m': 1},\n",
       "  {'bp': [1, 2],\n",
       "   's_m': 0.38126,\n",
       "   'min_sub_bp': [1],\n",
       "   'min_sub_s': -0.0,\n",
       "   'delta_m': 1},\n",
       "  {'bp': [1, 3],\n",
       "   's_m': 0.38126,\n",
       "   'min_sub_bp': [1],\n",
       "   'min_sub_s': -0.0,\n",
       "   'delta_m': 1},\n",
       "  {'bp': [2, 3],\n",
       "   's_m': -0.0,\n",
       "   'min_sub_bp': [2],\n",
       "   'min_sub_s': 0.76253,\n",
       "   'delta_m': -0.0}],\n",
       " 3: [{'bp': [0, 1, 2],\n",
       "   's_m': 0.38126,\n",
       "   'min_sub_bp': [0],\n",
       "   'min_sub_s': -0.0,\n",
       "   'delta_m': 1},\n",
       "  {'bp': [0, 1, 3],\n",
       "   's_m': 0.38126,\n",
       "   'min_sub_bp': [0],\n",
       "   'min_sub_s': -0.0,\n",
       "   'delta_m': 1},\n",
       "  {'bp': [0, 2, 3],\n",
       "   's_m': -0.0,\n",
       "   'min_sub_bp': [0],\n",
       "   'min_sub_s': -0.0,\n",
       "   'delta_m': 1},\n",
       "  {'bp': [1, 2, 3],\n",
       "   's_m': -0.0,\n",
       "   'min_sub_bp': [1],\n",
       "   'min_sub_s': -0.0,\n",
       "   'delta_m': 1}],\n",
       " 4: [{'bp': [0, 1, 2, 3],\n",
       "   's_m': -0.0,\n",
       "   'min_sub_bp': [0],\n",
       "   'min_sub_s': -0.0,\n",
       "   'delta_m': 1}]}"
      ]
     },
     "execution_count": 59,
     "metadata": {},
     "output_type": "execute_result"
    }
   ],
   "source": [
    "# Calculate disconnectivity\n",
    "\n",
    "\n",
    "out_obj  = {}\n",
    "min_delta_m = 100\n",
    "min_delta_m_info = []\n",
    "\n",
    "for bp_size in range(2,N + 1):\n",
    "    out_obj[bp_size] = []\n",
    "\n",
    "    \n",
    "\n",
    "    for bp in list(it.combinations(range(N), bp_size)):\n",
    "        bp_obj = {}\n",
    "\n",
    "        bp_obj[\"bp\"] = list(bp)\n",
    "\n",
    "        bp_obj[\"s_m\"] = round(entropy_vn(fair_sampling_gs.ptrace(list(bp))),5)\n",
    "        \n",
    "        min_sub_m_ent = 100000\n",
    "        min_sub_m_bp = []\n",
    "        for s_bp_size in range(1,bp_size):\n",
    "            for sbp in list(it.combinations(list(bp), s_bp_size)):\n",
    "                sub_m_ent = round(2*entropy_vn(fair_sampling_gs.ptrace(list(sbp))),5)\n",
    "                if sub_m_ent < min_sub_m_ent:\n",
    "                    min_sub_m_ent = sub_m_ent\n",
    "                    min_sub_m_bp = list(sbp)\n",
    "\n",
    "        bp_obj[\"min_sub_bp\"] = min_sub_m_bp\n",
    "        bp_obj[\"min_sub_s\"] = min_sub_m_ent\n",
    "        \n",
    "        delta_m = bp_obj[\"s_m\"]/bp_obj[\"min_sub_s\"] if bp_obj[\"min_sub_s\"] != 0 else 1\n",
    "            \n",
    "\n",
    "        \n",
    "        bp_obj[\"delta_m\"] = delta_m\n",
    "\n",
    "        if delta_m < min_delta_m:\n",
    "            min_delta_m = delta_m\n",
    "            min_delta_m_info = [bp_obj]\n",
    "        elif delta_m == min_delta_m:\n",
    "            min_delta_m_info.append(bp_obj)\n",
    "\n",
    "        out_obj[bp_size].append(bp_obj)\n",
    "\n",
    "\n",
    "out_obj\n"
   ]
  },
  {
   "cell_type": "code",
   "execution_count": 60,
   "metadata": {},
   "outputs": [
    {
     "data": {
      "text/plain": [
       "[{'bp': [2, 3],\n",
       "  's_m': -0.0,\n",
       "  'min_sub_bp': [2],\n",
       "  'min_sub_s': 0.76253,\n",
       "  'delta_m': -0.0}]"
      ]
     },
     "execution_count": 60,
     "metadata": {},
     "output_type": "execute_result"
    }
   ],
   "source": [
    "min_delta_m_info"
   ]
  },
  {
   "cell_type": "code",
   "execution_count": 45,
   "metadata": {},
   "outputs": [
    {
     "data": {
      "text/plain": [
       "[{'bp': [2, 3, 4],\n",
       "  's_m': -0.0,\n",
       "  'min_sub_bp': [2],\n",
       "  'min_sub_s': 0.76253,\n",
       "  'delta_m': -0.0}]"
      ]
     },
     "execution_count": 45,
     "metadata": {},
     "output_type": "execute_result"
    }
   ],
   "source": [
    "# 1\n",
    "[{'bp': [2, 3, 4],\n",
    "  's_m': -0.0,\n",
    "  'min_sub_bp': [2],\n",
    "  'min_sub_s': 0.76253,\n",
    "  'delta_m': -0.0}]\n",
    "\n",
    "# 2\n",
    "[{'bp': [1, 2, 3, 4],\n",
    "  's_m': -0.0,\n",
    "  'min_sub_bp': [1],\n",
    "  'min_sub_s': 1.15501,\n",
    "  'delta_m': -0.0}]\n",
    "\n",
    "# 3\n",
    "[{'bp': [1, 3, 4, 5],\n",
    "  's_m': -0.0,\n",
    "  'min_sub_bp': [1],\n",
    "  'min_sub_s': 1.27303,\n",
    "  'delta_m': -0.0}]\n",
    "\n",
    "# 4\n",
    "[{'bp': [2, 3],\n",
    "  's_m': -0.0,\n",
    "  'min_sub_bp': [2],\n",
    "  'min_sub_s': 0.76253,\n",
    "  'delta_m': -0.0}]\n"
   ]
  }
 ],
 "metadata": {
  "kernelspec": {
   "display_name": "Python 3",
   "language": "python",
   "name": "python3"
  },
  "language_info": {
   "codemirror_mode": {
    "name": "ipython",
    "version": 3
   },
   "file_extension": ".py",
   "mimetype": "text/x-python",
   "name": "python",
   "nbconvert_exporter": "python",
   "pygments_lexer": "ipython3",
   "version": "3.12.3"
  }
 },
 "nbformat": 4,
 "nbformat_minor": 2
}
