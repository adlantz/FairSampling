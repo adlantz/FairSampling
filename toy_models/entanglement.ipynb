{
 "cells": [
  {
   "cell_type": "code",
   "execution_count": 5,
   "metadata": {},
   "outputs": [],
   "source": [
    "\n",
    "import matplotlib.pyplot as plt\n",
    "import numpy as np\n",
    "import itertools as it\n",
    "from math import pi\n",
    "     \n",
    "\n",
    "from qutip import *\n",
    "from scipy import *"
   ]
  },
  {
   "cell_type": "code",
   "execution_count": 7,
   "metadata": {},
   "outputs": [],
   "source": [
    "toy_models = {\n",
    "            \"1\":\n",
    "               {\n",
    "                   \"j_map\" : [[0,1,1,-1,0],[1,0,1,0,-1],[1,1,0,1,1],[-1,0,1,0,1],[0,-1,1,1,0]],\n",
    "                   \"gs_indeces\": [  {\"i\":0, \"suppressed\": True},\n",
    "                                    {\"i\":3, \"suppressed\": False},\n",
    "                                    {\"i\":7, \"suppressed\": False}]\n",
    "                   },\n",
    "            \"2\": {\n",
    "                    \"j_map\" : [[0,2,1,2,1],[2,0,-2,-1,1],[1,-2,0,1,2],[2,-1,1,0,-2],[1,1,2,-2,0]],\n",
    "                    \"gs_indeces\": [{\"i\":0, \"suppressed\": False},\n",
    "                                    {\"i\":2, \"suppressed\": False},\n",
    "                                    {\"i\":5, \"suppressed\": True},\n",
    "                                    {\"i\":6, \"suppressed\": False},\n",
    "                                    {\"i\":8, \"suppressed\": False},\n",
    "                                    {\"i\":9, \"suppressed\": False}]\n",
    "                },\n",
    "            \"3\": {\n",
    "                    \"j_map\" : [[0,0,1,0,0,0],[0,0,0,1,0,0],[1,0,0,-1,1,-1],[0,1,-1,0,1,-1],[0,0,1,1,0,1], [0,0,-1,-1,1,0]],\n",
    "                    \"gs_indeces\": [{\"i\":1, \"suppressed\": True},\n",
    "                                    {\"i\":20, \"suppressed\": False},\n",
    "                                    {\"i\":23, \"suppressed\": False}]\n",
    "                },\n",
    "\n",
    "            \"4\": {\n",
    "                    \"j_map\" : [[0,1,0,0],[0,0,-1,-1],[0,-1,0,-1],[0,-1,-1,0]],\n",
    "                    \"gs_indeces\": [{\"i\":1, \"suppressed\": True},\n",
    "                                    {\"i\":2, \"suppressed\": True},\n",
    "                                    {\"i\":3, \"suppressed\": False}]\n",
    "                },\n",
    "\n",
    "            \n",
    "            \n",
    "            }\n",
    "\n",
    "model = toy_models[\"2\"]\n",
    "j_map = model[\"j_map\"]\n",
    "gs_indeces = model[\"gs_indeces\"]\n",
    "N = len(j_map[0])"
   ]
  },
  {
   "cell_type": "code",
   "execution_count": 8,
   "metadata": {},
   "outputs": [
    {
     "name": "stdout",
     "output_type": "stream",
     "text": [
      "Quantum object: dims=[[2, 2, 2, 2, 2], [2, 2, 2, 2, 2]], shape=(32, 32), type='oper', dtype=CSR, isherm=True\n",
      "Qobj data =\n",
      "[[5. 0. 0. ... 0. 0. 0.]\n",
      " [0. 1. 0. ... 0. 0. 0.]\n",
      " [0. 0. 5. ... 0. 0. 0.]\n",
      " ...\n",
      " [0. 0. 0. ... 5. 0. 0.]\n",
      " [0. 0. 0. ... 0. 1. 0.]\n",
      " [0. 0. 0. ... 0. 0. 5.]]\n",
      "[ 5.  1.  5. -7.  1.  5.  5.  1.  5.  5.  1. -7. -7.  1. -7. -7. -7. -7.\n",
      "  1. -7. -7.  1.  5.  5.  1.  5.  5.  1. -7.  5.  1.  5.]\n"
     ]
    }
   ],
   "source": [
    "\n",
    "\n",
    "si = qeye(2)\n",
    "sz = sigmaz()\n",
    "\n",
    "\n",
    "# Problem Hamiltonian\n",
    "# Hp = -sum(Jij sigma_i_z sigma_j_z)\n",
    "\n",
    "\n",
    "Hp = 0\n",
    "for i in range(len(j_map)):\n",
    "    for j in range(i,len(j_map[i])):\n",
    "\n",
    "        sigma_i = [si if k != i else sz for k in range(N) ]\n",
    "        sigma_j = [si if l != j else sz for l in range(N) ]\n",
    "\n",
    "        Hp += j_map[i][j] * tensor(sigma_i) * tensor(sigma_j)   \n",
    "\n",
    "\n",
    "print(Hp)\n",
    "print(Hp.diag())"
   ]
  },
  {
   "cell_type": "code",
   "execution_count": 162,
   "metadata": {},
   "outputs": [
    {
     "data": {
      "text/latex": [
       "Quantum object: dims = [[2, 2, 2, 2, 2], [2, 2, 2, 2, 2]], shape = (32, 32), type = oper, isherm = True $ \\\\ \\left(\\begin{matrix}0.0 & 1.0 & 1.0 & 0.0 & 1.0 & \\cdots & 0.0 & 0.0 & 0.0 & 0.0 & 0.0\\\\1.0 & 0.0 & 0.0 & 1.0 & 0.0 & \\cdots & 0.0 & 0.0 & 0.0 & 0.0 & 0.0\\\\1.0 & 0.0 & 0.0 & 1.0 & 0.0 & \\cdots & 0.0 & 0.0 & 0.0 & 0.0 & 0.0\\\\0.0 & 1.0 & 1.0 & 0.0 & 0.0 & \\cdots & 0.0 & 0.0 & 0.0 & 0.0 & 0.0\\\\1.0 & 0.0 & 0.0 & 0.0 & 0.0 & \\cdots & 0.0 & 0.0 & 0.0 & 0.0 & 0.0\\\\\\vdots & \\vdots & \\vdots & \\vdots & \\vdots & \\ddots & \\vdots & \\vdots & \\vdots & \\vdots & \\vdots\\\\0.0 & 0.0 & 0.0 & 0.0 & 0.0 & \\cdots & 0.0 & 0.0 & 0.0 & 0.0 & 1.0\\\\0.0 & 0.0 & 0.0 & 0.0 & 0.0 & \\cdots & 0.0 & 0.0 & 1.0 & 1.0 & 0.0\\\\0.0 & 0.0 & 0.0 & 0.0 & 0.0 & \\cdots & 0.0 & 1.0 & 0.0 & 0.0 & 1.0\\\\0.0 & 0.0 & 0.0 & 0.0 & 0.0 & \\cdots & 0.0 & 1.0 & 0.0 & 0.0 & 1.0\\\\0.0 & 0.0 & 0.0 & 0.0 & 0.0 & \\cdots & 1.0 & 0.0 & 1.0 & 1.0 & 0.0\\\\\\end{matrix}\\right)$"
      ],
      "text/plain": [
       "Quantum object: dims = [[2, 2, 2, 2, 2], [2, 2, 2, 2, 2]], shape = (32, 32), type = oper, isherm = True\n",
       "Qobj data =\n",
       "[[0. 1. 1. ... 0. 0. 0.]\n",
       " [1. 0. 0. ... 0. 0. 0.]\n",
       " [1. 0. 0. ... 0. 0. 0.]\n",
       " ...\n",
       " [0. 0. 0. ... 0. 0. 1.]\n",
       " [0. 0. 0. ... 0. 0. 1.]\n",
       " [0. 0. 0. ... 1. 1. 0.]]"
      ]
     },
     "execution_count": 162,
     "metadata": {},
     "output_type": "execute_result"
    }
   ],
   "source": [
    "# transverse field hamiltonian\n",
    "\n",
    "si = qeye(2)\n",
    "sx = sigmax()\n",
    "\n",
    "Ht = 0\n",
    "for i in range(N):\n",
    "    sigma_x = [si if k != i else sx for k in range(N)]\n",
    "    Ht += tensor(sigma_x)\n",
    "\n",
    "Ht"
   ]
  },
  {
   "cell_type": "code",
   "execution_count": 207,
   "metadata": {},
   "outputs": [
    {
     "data": {
      "text/plain": [
       "[[[(0, 1, 2), 1.177971],\n",
       "  [(0, 1, 3), 1.177971],\n",
       "  [(0, 1, 4), 0.924814],\n",
       "  [(0, 2, 3), 0.924814],\n",
       "  [(0, 2, 4), 0.924814],\n",
       "  [(0, 3, 4), 1.177971],\n",
       "  [(1, 2, 3), 0.924814],\n",
       "  [(1, 2, 4), 1.177971],\n",
       "  [(1, 3, 4), 0.924814],\n",
       "  [(2, 3, 4), 1.177971]]]"
      ]
     },
     "execution_count": 207,
     "metadata": {},
     "output_type": "execute_result"
    }
   ],
   "source": [
    "# the time-dependent hamiltonian in list-function format\n",
    "# args = {\"t_max\": 1}\n",
    "# h_t = [\n",
    "#     [-Ht, lambda t, args: (args[\"t_max\"] - t) / args[\"t_max\"]],\n",
    "#     [-Hp, lambda t, args: t / args[\"t_max\"]],\n",
    "# ]\n",
    "\n",
    "\n",
    "\n",
    "h_t = [\n",
    "    [-Ht, lambda h, args: h], \n",
    "     -Hp,\n",
    "]\n",
    "\n",
    "# transform Hamiltonian to QobjEvo\n",
    "h_t = QobjEvo(h_t)\n",
    "\n",
    "entropy_vals = []\n",
    "\n",
    "# for h in np.arange(0.1,1,0.1):\n",
    "#     H = h_t(h)\n",
    "#     _, ekets = H.eigenstates(eigvals=1)\n",
    "#     gs = ekets[0]\n",
    "#     entropy_vals.append(\n",
    "#         [\n",
    "#             entropy_vn(gs.ptrace(list(bp)))\n",
    "#             for bp in list(it.combinations(range(N), (N//2) + 1))\n",
    "#         ]\n",
    "#     )\n",
    "\n",
    "\n",
    "h= 0.001\n",
    "\n",
    "H = h_t(h)\n",
    "evals, ekets = H.eigenstates(eigvals=7)\n",
    "gs = ekets[0]\n",
    "entropy_vals.append(\n",
    "    [\n",
    "        [bp,round(entropy_vn(gs.ptrace(list(bp))),6)]\n",
    "        for bp in list(it.combinations(range(N), int(np.ceil(N/2))))\n",
    "    ]\n",
    ")\n",
    "entropy_vals\n",
    "    "
   ]
  },
  {
   "cell_type": "code",
   "execution_count": 212,
   "metadata": {},
   "outputs": [
    {
     "data": {
      "text/latex": [
       "Quantum object: dims = [[2, 2, 2, 2, 2], [1, 1, 1, 1, 1]], shape = (32, 1), type = ket $ \\\\ \\left(\\begin{matrix}-0.316\\\\-1.581\\times10^{-04}\\\\-0.316\\\\-2.638\\times10^{-05}\\\\-1.581\\times10^{-04}\\\\\\vdots\\\\-1.581\\times10^{-04}\\\\-2.638\\times10^{-05}\\\\-0.316\\\\-1.581\\times10^{-04}\\\\-0.316\\\\\\end{matrix}\\right)$"
      ],
      "text/plain": [
       "Quantum object: dims = [[2, 2, 2, 2, 2], [1, 1, 1, 1, 1]], shape = (32, 1), type = ket\n",
       "Qobj data =\n",
       "[[-3.16227676e-01]\n",
       " [-1.58146699e-04]\n",
       " [-3.16227676e-01]\n",
       " [-2.63786617e-05]\n",
       " [-1.58146699e-04]\n",
       " [-3.95152650e-04]\n",
       " [-3.16227676e-01]\n",
       " [-1.58146699e-04]\n",
       " [-3.16227676e-01]\n",
       " [-3.16227676e-01]\n",
       " [-1.58146699e-04]\n",
       " [-2.63786617e-05]\n",
       " [-2.63786617e-05]\n",
       " [-1.58146699e-04]\n",
       " [-2.63786617e-05]\n",
       " [-2.63786617e-05]\n",
       " [-2.63786617e-05]\n",
       " [-2.63786617e-05]\n",
       " [-1.58146699e-04]\n",
       " [-2.63786617e-05]\n",
       " [-2.63786617e-05]\n",
       " [-1.58146699e-04]\n",
       " [-3.16227676e-01]\n",
       " [-3.16227676e-01]\n",
       " [-1.58146699e-04]\n",
       " [-3.16227676e-01]\n",
       " [-3.95152650e-04]\n",
       " [-1.58146699e-04]\n",
       " [-2.63786617e-05]\n",
       " [-3.16227676e-01]\n",
       " [-1.58146699e-04]\n",
       " [-3.16227676e-01]]"
      ]
     },
     "execution_count": 212,
     "metadata": {},
     "output_type": "execute_result"
    }
   ],
   "source": [
    "gs"
   ]
  },
  {
   "cell_type": "code",
   "execution_count": 154,
   "metadata": {},
   "outputs": [
    {
     "data": {
      "text/plain": [
       "2.718281828459045"
      ]
     },
     "execution_count": 154,
     "metadata": {},
     "output_type": "execute_result"
    }
   ],
   "source": [
    "# [ev - evals[0] for ev in evals]\n",
    "type(entropy_vals[0])\n",
    "[bp_e[1] for bp_e in entropy_vals[0]]\n",
    "\n",
    "np.e"
   ]
  },
  {
   "cell_type": "code",
   "execution_count": 165,
   "metadata": {},
   "outputs": [
    {
     "data": {
      "image/png": "[encoded data removed]",
      "text/plain": [
       "<Figure size 640x480 with 1 Axes>"
      ]
     },
     "metadata": {},
     "output_type": "display_data"
    },
    {
     "name": "stdout",
     "output_type": "stream",
     "text": [
      "[3.248, 3.248, 2.521, 2.521, 2.521, 3.248, 2.521, 3.248, 2.521, 3.248]\n"
     ]
    }
   ],
   "source": [
    "\n",
    "# Pull raw entanglement entropy values out of results. Round to 3 decimal places so that hist bins aren't over precise\n",
    "ee_vals = [round(np.e ** bp_e[1],3) for bp_e in entropy_vals[0]]\n",
    "\n",
    "plt.hist(ee_vals)\n",
    "plt.xlim(0,max(ee_vals)*1.5)\n",
    "\n",
    "plt.title('Entanglement Entropies Histogram')\n",
    "plt.ylabel('Number of Bipartitions')\n",
    "plt.xlabel(\"exp(VN Entanglement Entropy)\")\n",
    "plt.show()\n",
    "print(ee_vals)\n"
   ]
  },
  {
   "cell_type": "code",
   "execution_count": 239,
   "metadata": {},
   "outputs": [
    {
     "name": "stdout",
     "output_type": "stream",
     "text": [
      "Quantum object: dims = [[2, 2, 2, 2, 2], [1, 1, 1, 1, 1]], shape = (32, 1), type = ket\n",
      "Qobj data =\n",
      "[[0.57735027]\n",
      " [0.        ]\n",
      " [0.        ]\n",
      " [0.57735027]\n",
      " [0.        ]\n",
      " [0.        ]\n",
      " [0.        ]\n",
      " [0.57735027]\n",
      " [0.        ]\n",
      " [0.        ]\n",
      " [0.        ]\n",
      " [0.        ]\n",
      " [0.        ]\n",
      " [0.        ]\n",
      " [0.        ]\n",
      " [0.        ]\n",
      " [0.        ]\n",
      " [0.        ]\n",
      " [0.        ]\n",
      " [0.        ]\n",
      " [0.        ]\n",
      " [0.        ]\n",
      " [0.        ]\n",
      " [0.        ]\n",
      " [0.        ]\n",
      " [0.        ]\n",
      " [0.        ]\n",
      " [0.        ]\n",
      " [0.        ]\n",
      " [0.        ]\n",
      " [0.        ]\n",
      " [0.        ]]\n"
     ]
    },
    {
     "data": {
      "text/plain": [
       "[[[(0, 1, 2), 0.381264],\n",
       "  [(0, 1, 3), 0.636514],\n",
       "  [(0, 1, 4), 0.636514],\n",
       "  [(0, 2, 3), 0.636514],\n",
       "  [(0, 2, 4), 0.636514],\n",
       "  [(0, 3, 4), 0.381264],\n",
       "  [(1, 2, 3), 0.636514],\n",
       "  [(1, 2, 4), 0.636514],\n",
       "  [(1, 3, 4), 0.381264],\n",
       "  [(2, 3, 4), -0.0]]]"
      ]
     },
     "execution_count": 239,
     "metadata": {},
     "output_type": "execute_result"
    }
   ],
   "source": [
    "# Generate \"artificial\" fair sampling state\n",
    "\n",
    "t_i = \"1\"\n",
    "N = len(toy_models[t_i][\"j_map\"][0])\n",
    "\n",
    "fair_sampling_gs = np.zeros([2**N,1])\n",
    "gs_size = len(toy_models[t_i][\"gs_indeces\"])\n",
    "\n",
    "\n",
    "\n",
    "for gs in toy_models[t_i][\"gs_indeces\"]:\n",
    "    fair_sampling_gs[gs[\"i\"]] = 1/np.sqrt(gs_size)\n",
    "    # fair_sampling_gs[(2**N) - 1 - gs[\"i\"]] = 1/np.sqrt(gs_size)\n",
    "\n",
    "\n",
    "fair_sampling_gs = Qobj(fair_sampling_gs, dims = [[2 for i in range(N)], [1 for i in range(N)]])\n",
    "print(fair_sampling_gs)\n",
    "\n",
    "\n",
    "entropy_vals = []\n",
    "entropy_vals.append(\n",
    "    [\n",
    "        [bp,round(entropy_vn(fair_sampling_gs.ptrace(list(bp))),6)]\n",
    "        for bp in list(it.combinations(range(N), int(np.ceil(N/2))))\n",
    "    ]\n",
    ")\n",
    "entropy_vals"
   ]
  },
  {
   "cell_type": "code",
   "execution_count": 240,
   "metadata": {},
   "outputs": [
    {
     "data": {
      "image/png": "[encoded data removed]",
      "text/plain": [
       "<Figure size 640x480 with 1 Axes>"
      ]
     },
     "metadata": {},
     "output_type": "display_data"
    },
    {
     "name": "stdout",
     "output_type": "stream",
     "text": [
      "[1.464, 1.89, 1.89, 1.89, 1.89, 1.464, 1.89, 1.89, 1.464, 1.0]\n"
     ]
    }
   ],
   "source": []
  },
  {
   "cell_type": "code",
   "execution_count": 6,
   "metadata": {},
   "outputs": [
    {
     "ename": "NameError",
     "evalue": "name 'N' is not defined",
     "output_type": "error",
     "traceback": [
      "\u001b[0;31m---------------------------------------------------------------------------\u001b[0m",
      "\u001b[0;31mNameError\u001b[0m                                 Traceback (most recent call last)",
      "Cell \u001b[0;32mIn[6], line 9\u001b[0m\n\u001b[1;32m      6\u001b[0m min_delta_m \u001b[38;5;241m=\u001b[39m \u001b[38;5;241m100\u001b[39m\n\u001b[1;32m      7\u001b[0m min_delta_m_info \u001b[38;5;241m=\u001b[39m {}\n\u001b[0;32m----> 9\u001b[0m \u001b[38;5;28;01mfor\u001b[39;00m bp_size \u001b[38;5;129;01min\u001b[39;00m \u001b[38;5;28mrange\u001b[39m(\u001b[38;5;241m2\u001b[39m,\u001b[43mN\u001b[49m \u001b[38;5;241m+\u001b[39m \u001b[38;5;241m1\u001b[39m):\n\u001b[1;32m     10\u001b[0m     out_obj[bp_size] \u001b[38;5;241m=\u001b[39m []\n\u001b[1;32m     13\u001b[0m     \u001b[38;5;28;01mfor\u001b[39;00m bp \u001b[38;5;129;01min\u001b[39;00m \u001b[38;5;28mlist\u001b[39m(it\u001b[38;5;241m.\u001b[39mcombinations(\u001b[38;5;28mrange\u001b[39m(N), bp_size)):\n",
      "\u001b[0;31mNameError\u001b[0m: name 'N' is not defined"
     ]
    }
   ],
   "source": []
  },
  {
   "cell_type": "code",
   "execution_count": null,
   "metadata": {},
   "outputs": [],
   "source": []
  },
  {
   "cell_type": "code",
   "execution_count": null,
   "metadata": {},
   "outputs": [],
   "source": []
  }
 ],
 "metadata": {
  "kernelspec": {
   "display_name": "Python 3",
   "language": "python",
   "name": "python3"
  },
  "language_info": {
   "codemirror_mode": {
    "name": "ipython",
    "version": 3
   },
   "file_extension": ".py",
   "mimetype": "text/x-python",
   "name": "python",
   "nbconvert_exporter": "python",
   "pygments_lexer": "ipython3",
   "version": "3.12.3"
  }
 },
 "nbformat": 4,
 "nbformat_minor": 2
}
