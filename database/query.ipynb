{
 "cells": [
  {
   "cell_type": "code",
   "execution_count": 1,
   "metadata": {},
   "outputs": [],
   "source": [
    "from sqlalchemy import create_engine, text\n",
    "from sqlalchemy.orm import sessionmaker, Session\n",
    "from models import Base, InstancesN8\n",
    "\n",
    "def get_session() -> Session:\n",
    "    # Connect to the SQLite database\n",
    "    engine = create_engine(\"sqlite:///fair_sampling.db\")\n",
    "\n",
    "    # Create a configured \"Session\" class\n",
    "    return sessionmaker(bind=engine)()\n",
    "\n"
   ]
  },
  {
   "cell_type": "code",
   "execution_count": 14,
   "metadata": {},
   "outputs": [
    {
     "name": "stdout",
     "output_type": "stream",
     "text": [
      "[(0, '[9, 30, 225, 246]', '[9, 30]', 4), (1, '[120, 135]', '[120]', None), (2, '[89, 166]', '[89]', None), (3, '[3, 58, 197, 252]', '[3, 58]', 4), (4, '[51, 204]', '[51]', None), (5, '[56, 199]', '[56]', None), (6, '[75, 180]', '[75]', None), (7, '[35, 220]', '[35]', None), (8, '[126, 129]', '[126]', None), (9, '[19, 59, 100, 103, 110, 145, 152, 155, 196, 236]', '[196, 236, 100, 103, 110]', 4)]\n"
     ]
    }
   ],
   "source": [
    "with get_session() as session:\n",
    "    statement = text(\"\"\"\n",
    "    \n",
    "     SELECT seed, ground_states, reduced_gs, max_inter_gs_hd FROM instances_N8 LIMIT 10;\n",
    "\n",
    "    \"\"\")\n",
    "\n",
    "    print(session.execute(statement).all())\n",
    "    session.close()"
   ]
  },
  {
   "cell_type": "code",
   "execution_count": 3,
   "metadata": {},
   "outputs": [],
   "source": [
    "with get_session() as session:\n",
    "    statement = text(\"\"\"\n",
    "    \n",
    "    DELETE FROM instances_N8 WHERE seed = 0;\n",
    "\n",
    "    \"\"\")\n",
    "\n",
    "    session.execute(statement)\n",
    "    session.commit()\n",
    "    session.close()"
   ]
  },
  {
   "cell_type": "code",
   "execution_count": null,
   "metadata": {},
   "outputs": [],
   "source": []
  }
 ],
 "metadata": {
  "kernelspec": {
   "display_name": "Python 3",
   "language": "python",
   "name": "python3"
  },
  "language_info": {
   "codemirror_mode": {
    "name": "ipython",
    "version": 3
   },
   "file_extension": ".py",
   "mimetype": "text/x-python",
   "name": "python",
   "nbconvert_exporter": "python",
   "pygments_lexer": "ipython3",
   "version": "3.12.2"
  }
 },
 "nbformat": 4,
 "nbformat_minor": 2
}
