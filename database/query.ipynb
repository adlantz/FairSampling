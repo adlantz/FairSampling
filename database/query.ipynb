{
 "cells": [
  {
   "cell_type": "code",
   "execution_count": 1,
   "metadata": {},
   "outputs": [],
   "source": [
    "from sqlalchemy import create_engine, text\n",
    "from sqlalchemy.orm import sessionmaker, Session\n",
    "from models import Base, InstancesN8\n",
    "\n",
    "def get_session() -> Session:\n",
    "    # Connect to the SQLite database\n",
    "    engine = create_engine(\"sqlite:///fair_sampling.db\")\n",
    "    return sessionmaker(bind=engine)()\n",
    "\n"
   ]
  },
  {
   "cell_type": "code",
   "execution_count": 19,
   "metadata": {},
   "outputs": [
    {
     "name": "stdout",
     "output_type": "stream",
     "text": [
      "(152, '[67, 50, 146]', '[1.0, 0.0, 1.0, 0.5, 1.0, 0.0]', 0.58333, 0.20139, 4, '[0.0, 0.50117, 0.50117]', 1.0, '[50, 146]', 2, '[1.0, 0.5, 1.0]', 0.83333, 0.05556, 2)\n"
     ]
    }
   ],
   "source": [
    "from sqlalchemy import func\n",
    "with get_session() as session:\n",
    "    statement = text(\"\"\"\n",
    "    \n",
    "      SELECT seed, reduced_gs, overlap_dist, od_mean, od_variance, max_inter_gs_hd, post_anneal_gs_probs, post_anneal_supp_ratio, post_anneal_gs, post_anneal_deg, post_anneal_overlap_dist, post_anneal_od_mean, post_anneal_od_variance, post_anneal_max_inter_gs_hd FROM instances_N8\n",
    "      WHERE post_anneal_supp_ratio is not NULL and post_anneal_supp_ratio > 0.9  \n",
    "     LIMIT 10;\n",
    "\n",
    "     \"\"\")\n",
    "\n",
    "    print(session.execute(statement).all()[0])\n",
    "    # print(session.query(InstancesN8).where(InstancesN8.degeneracy > 2).all())\n",
    "\n",
    "    # instance = (\n",
    "    #         session.query(InstancesN8)\n",
    "    #         .where(\n",
    "    #             InstancesN8.seed == 0\n",
    "    #         )\n",
    "    #         .all()[\n",
    "    #     )\n",
    "    # print(instance)\n",
    "    session.close()"
   ]
  },
  {
   "cell_type": "code",
   "execution_count": 3,
   "metadata": {},
   "outputs": [],
   "source": [
    "with get_session() as session:\n",
    "    statement = text(\"\"\"\n",
    "    \n",
    "    DELETE FROM instances_N8 WHERE seed = 0;\n",
    "\n",
    "    \"\"\")\n",
    "\n",
    "    session.execute(statement)\n",
    "    session.commit()\n",
    "    session.close()"
   ]
  },
  {
   "cell_type": "code",
   "execution_count": 24,
   "metadata": {},
   "outputs": [
    {
     "data": {
      "text/plain": [
       "0.4552238805970149"
      ]
     },
     "execution_count": 24,
     "metadata": {},
     "output_type": "execute_result"
    }
   ],
   "source": [
    "122/268"
   ]
  },
  {
   "cell_type": "code",
   "execution_count": null,
   "metadata": {},
   "outputs": [],
   "source": []
  }
 ],
 "metadata": {
  "kernelspec": {
   "display_name": "Python 3",
   "language": "python",
   "name": "python3"
  },
  "language_info": {
   "codemirror_mode": {
    "name": "ipython",
    "version": 3
   },
   "file_extension": ".py",
   "mimetype": "text/x-python",
   "name": "python",
   "nbconvert_exporter": "python",
   "pygments_lexer": "ipython3",
   "version": "3.12.2"
  }
 },
 "nbformat": 4,
 "nbformat_minor": 2
}
