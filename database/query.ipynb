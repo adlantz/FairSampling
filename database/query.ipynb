{
 "cells": [
  {
   "cell_type": "code",
   "execution_count": 5,
   "metadata": {},
   "outputs": [
    {
     "name": "stdout",
     "output_type": "stream",
     "text": [
      "seed: 0, gs: [9, 30, 225, 246]\n"
     ]
    }
   ],
   "source": [
    "from sqlalchemy import create_engine, text\n",
    "from sqlalchemy.orm import sessionmaker\n",
    "from models import Base, InstancesN8\n",
    "\n",
    "# Connect to the SQLite database\n",
    "engine = create_engine('sqlite:///fair_sampling.db')\n",
    "\n",
    "# Create a configured \"Session\" class\n",
    "Session = sessionmaker(bind=engine)\n",
    "\n",
    "# Create a Session\n",
    "session = Session()\n",
    "\n",
    "session.execute(text(\"DELETE FROM instances_N8 WHERE seed = 0;\"))\n",
    "\n",
    "\n",
    "new_instance = InstancesN8(seed=0, Jij_matrix= [[-1, 1, 1, 1, -1, -1, 1, -1], [1, 1, 1, -1, -1, 1, 1, -1], [-1, -1, 1, 1, -1, -1, 1, -1], [-1, 1, 1, -1, -1, 1, 1, -1]], ground_states=[9, 30, 225, 246])\n",
    "session.add(new_instance)\n",
    "session.commit()\n",
    "\n",
    "# Query the database\n",
    "instances: list[InstancesN8] = session.query(InstancesN8).all()\n",
    "for instance in instances:\n",
    "    print(f'seed: {instance.seed}, gs: {instance.ground_states}')\n",
    "\n",
    "# Close the session\n",
    "session.close()\n"
   ]
  },
  {
   "cell_type": "code",
   "execution_count": 8,
   "metadata": {},
   "outputs": [
    {
     "data": {
      "text/plain": [
       "[[-1, 1, 1, 1, -1, -1, 1, -1],\n",
       " [1, 1, 1, -1, -1, 1, 1, -1],\n",
       " [-1, -1, 1, 1, -1, -1, 1, -1],\n",
       " [-1, 1, 1, -1, -1, 1, 1, -1]]"
      ]
     },
     "execution_count": 8,
     "metadata": {},
     "output_type": "execute_result"
    }
   ],
   "source": [
    "instances[0].Jij_matrix"
   ]
  },
  {
   "cell_type": "code",
   "execution_count": null,
   "metadata": {},
   "outputs": [],
   "source": []
  }
 ],
 "metadata": {
  "kernelspec": {
   "display_name": "Python 3",
   "language": "python",
   "name": "python3"
  },
  "language_info": {
   "codemirror_mode": {
    "name": "ipython",
    "version": 3
   },
   "file_extension": ".py",
   "mimetype": "text/x-python",
   "name": "python",
   "nbconvert_exporter": "python",
   "pygments_lexer": "ipython3",
   "version": "3.12.2"
  }
 },
 "nbformat": 4,
 "nbformat_minor": 2
}
