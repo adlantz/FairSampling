{
 "cells": [
  {
   "cell_type": "code",
   "execution_count": 29,
   "metadata": {},
   "outputs": [],
   "source": [
    "import os\n",
    "import json\n",
    "import numpy as np\n",
    "import itertools as it\n",
    "import qutip as qt"
   ]
  },
  {
   "cell_type": "code",
   "execution_count": 75,
   "metadata": {},
   "outputs": [],
   "source": [
    "def hamming_distance(i,j,N):\n",
    "    arr_i = np.array([int(s) for s in bin(i)[2:].zfill(N)])\n",
    "    arr_j = np.array([int(s) for s in bin(j)[2:].zfill(N)])\n",
    "    return int(np.sum(arr_i != arr_j))\n",
    "\n",
    "def max_hamming_distance(gs, N):\n",
    "    max_h_d = 0\n",
    "    for i in range(len(gs)):\n",
    "        for j in range(i+1,len(gs)):\n",
    "            h_d = hamming_distance(gs[i],gs[j],N)\n",
    "            if h_d > max_h_d:\n",
    "                max_h_d = h_d\n",
    "    \n",
    "    return max_h_d\n",
    "\n",
    "\n",
    "\n",
    "\n",
    "def disconnectivity(fair_sampling_gs: qt.Qobj, N: int) -> int:\n",
    "    min_delta_m = 100\n",
    "    disconnectivity = 0\n",
    "\n",
    "    ent_cache = {}\n",
    "\n",
    "    for bp_size in range(2,N + 1):\n",
    "        for bp in list(it.combinations(range(N), bp_size)):\n",
    "            \n",
    "            s_m = round(qt.entropy_vn(fair_sampling_gs.ptrace(list(bp))),5)\n",
    "            ent_cache[bp] = s_m\n",
    "            \n",
    "            min_sub_m_ent = 100000\n",
    "            for s_bp_size in range(1,bp_size):\n",
    "                for sbp in list(it.combinations(list(bp), s_bp_size)):\n",
    "                    if sbp in ent_cache:\n",
    "                        sub_m_ent = round(2*ent_cache[sbp],5)\n",
    "                    else:\n",
    "                        sub_m_ent = round(2*qt.entropy_vn(fair_sampling_gs.ptrace(list(sbp))),5)\n",
    "                    if sub_m_ent < min_sub_m_ent:\n",
    "                        min_sub_m_ent = sub_m_ent\n",
    "\n",
    "            delta_m = s_m/min_sub_m_ent if min_sub_m_ent != 0 else 1\n",
    "\n",
    "                \n",
    "\n",
    "    \n",
    "\n",
    "            if delta_m < min_delta_m:\n",
    "                disconnectivity = bp_size\n",
    "                min_delta_m = delta_m\n",
    "                # print(min_delta_m)\n",
    "                if abs(min_delta_m) < 1e-5 :\n",
    "                    # it's zero, we found the lowest possible\n",
    "                    break\n",
    "        else:\n",
    "            continue\n",
    "        break\n",
    "\n",
    "    return disconnectivity"
   ]
  },
  {
   "cell_type": "code",
   "execution_count": 78,
   "metadata": {},
   "outputs": [
    {
     "name": "stdout",
     "output_type": "stream",
     "text": [
      "[6, 6, 4, 6, 4, 6, 4, 4, 6, 6, 6, 6, 6, 6, 6]\n",
      "[7, 6, 4, 7, 4, 7, 4, 4, 7, 7, 6, 7, 7, 7, 7]\n"
     ]
    }
   ],
   "source": [
    "degeneracy = 8\n",
    "N = 8\n",
    "\n",
    "directory = f'../../data/instances/inf_d/{N}/gs_{degeneracy}'\n",
    "\n",
    "\n",
    "max_hds = []\n",
    "disc = []\n",
    "\n",
    "for filename in os.listdir(directory):\n",
    "    with open(f\"{directory}/{filename}\", 'r') as file:\n",
    "        data = json.load(file)\n",
    "    gs = json.loads(data['gs'])\n",
    "    reduced_gs = gs[:degeneracy//2]\n",
    "    \n",
    "    # Implement better way to find reduced gs\n",
    "\n",
    "\n",
    "    # Make graph based on Hamming Ds\n",
    "\n",
    "    # Make Laplacian\n",
    "\n",
    "    # Find second eigenvalue\n",
    "\n",
    "    # Break along negative positive\n",
    "\n",
    "    \n",
    "\n",
    "    max_hds.append(max_hamming_distance(reduced_gs,N))\n",
    "\n",
    "    fair_sampling_gs = np.zeros([2**N,1])\n",
    "    for g in reduced_gs:\n",
    "        fair_sampling_gs[g] = 1/np.sqrt(len(reduced_gs))\n",
    "    fair_sampling_gs = qt.Qobj(fair_sampling_gs, dims = [[2 for i in range(N)], [1 for i in range(N)]])\n",
    "\n",
    "    disc.append(disconnectivity(fair_sampling_gs,N))\n",
    "    \n",
    "    # break\n",
    "\n",
    "print(max_hds)\n",
    "print(disc)\n"
   ]
  },
  {
   "cell_type": "code",
   "execution_count": 79,
   "metadata": {},
   "outputs": [
    {
     "data": {
      "text/plain": [
       "[<matplotlib.lines.Line2D at 0x148426120>]"
      ]
     },
     "execution_count": 79,
     "metadata": {},
     "output_type": "execute_result"
    },
    {
     "data": {
      "image/png": "[encoded data removed]",
      "text/plain": [
       "<Figure size 640x480 with 1 Axes>"
      ]
     },
     "metadata": {},
     "output_type": "display_data"
    }
   ],
   "source": [
    "import matplotlib.pyplot as plt\n",
    "\n",
    "plt.plot(max_hds,disc)"
   ]
  },
  {
   "cell_type": "code",
   "execution_count": 97,
   "metadata": {},
   "outputs": [
    {
     "name": "stdout",
     "output_type": "stream",
     "text": [
      "[9, 30, 225, 246]\n",
      "['00001001', '00011110', '11100001', '11110110']\n",
      "[[0.         0.01831564 0.01831564 0.00033546]\n",
      " [0.01831564 0.         0.00033546 0.01831564]\n",
      " [0.01831564 0.00033546 0.         0.01831564]\n",
      " [0.00033546 0.01831564 0.01831564 0.        ]]\n",
      "[[0.03696674 0.         0.         0.        ]\n",
      " [0.         0.03696674 0.         0.        ]\n",
      " [0.         0.         0.03696674 0.        ]\n",
      " [0.         0.         0.         0.03696674]]\n",
      "[[ 0.03696674 -0.01831564 -0.01831564 -0.00033546]\n",
      " [-0.01831564  0.03696674 -0.00033546 -0.01831564]\n",
      " [-0.01831564 -0.00033546  0.03696674 -0.01831564]\n",
      " [-0.00033546 -0.01831564 -0.01831564  0.03696674]]\n",
      "[2.08166817e-17 3.73022030e-02 7.32625556e-02 3.73022030e-02]\n",
      "[[ 5.00000000e-01  7.07106781e-01  5.00000000e-01  1.02072509e-01]\n",
      " [ 5.00000000e-01  3.25703014e-16 -5.00000000e-01 -6.99700795e-01]\n",
      " [ 5.00000000e-01 -3.34963291e-16 -5.00000000e-01  6.99700795e-01]\n",
      " [ 5.00000000e-01 -7.07106781e-01  5.00000000e-01 -1.02072509e-01]]\n"
     ]
    }
   ],
   "source": [
    "N=8\n",
    "gs_array = [9, 30, 225, 246]\n",
    "print(gs_array)\n",
    "print([bin(i)[2:].zfill(N) for i in gs_array] )\n",
    "dim = len(gs)\n",
    "\n",
    "Aij = np.zeros((dim,dim))\n",
    "\n",
    "\n",
    "for i in range(dim):\n",
    "    for j in range(dim):\n",
    "        if i != j:\n",
    "            Aij[i][j] = Aij[j][i] = np.exp(-hamming_distance(gs[i],gs[j],8))\n",
    "\n",
    "\n",
    "\n",
    "Deg = np.zeros((dim,dim))\n",
    "np.fill_diagonal(Deg,[sum(row) for row in Aij])\n",
    "\n",
    "Lap = Deg - Aij\n",
    "\n",
    "\n",
    "\n",
    "\n",
    "\n",
    "print(Aij)\n",
    "print(Deg)\n",
    "print(Lap)\n",
    "\n",
    "\n",
    "eva, evec = np.linalg.eig(Lap)\n",
    "\n",
    "print(eva)\n",
    "print(evec)"
   ]
  },
  {
   "cell_type": "code",
   "execution_count": 238,
   "metadata": {},
   "outputs": [],
   "source": [
    "\n",
    "\n",
    "def overlap_distribution(gs, N):\n",
    "    overlap_dist = []\n",
    "    for i in range(len(gs)):\n",
    "        \n",
    "        for j in range(i,len(gs)):\n",
    "\n",
    "            h_d = hamming_distance(gs[i],gs[j],N)\n",
    "            overlap_dist.append((N-2*h_d)/N)\n",
    "    \n",
    "    return overlap_dist"
   ]
  },
  {
   "cell_type": "code",
   "execution_count": 293,
   "metadata": {},
   "outputs": [
    {
     "name": "stdout",
     "output_type": "stream",
     "text": [
      "[63, 95, 160, 192]\n",
      "['00111111', '01011111', '10100000', '11000000']\n",
      "[(0, 1), 2]\n",
      "[0.27067057 0.         0.27067057 0.        ]\n",
      "[1 3 0 2]\n",
      "[ 0.70710678 -0.70710678  0.          0.        ]\n",
      "[0.         0.         0.70710678 0.70710678]\n",
      "[95]\n"
     ]
    },
    {
     "data": {
      "image/png": "[encoded data removed]",
      "text/plain": [
       "<Figure size 640x480 with 1 Axes>"
      ]
     },
     "metadata": {},
     "output_type": "display_data"
    },
    {
     "name": "stdout",
     "output_type": "stream",
     "text": [
      "[160, 192]\n"
     ]
    },
    {
     "data": {
      "image/png": "[encoded data removed]",
      "text/plain": [
       "<Figure size 640x480 with 1 Axes>"
      ]
     },
     "metadata": {},
     "output_type": "display_data"
    }
   ],
   "source": [
    "\n",
    "\n",
    "N=8\n",
    "# gs_array = [3, 12, 19, 24, 26, 27, 28, 33, 35, 37, 44, 45, 82, 83, 90, 92, 94, 99, 100, 101, 103, 108, 115, 124, 131, 140, 147, 152, 154, 155, 156, 161, 163, 165, 172, 173, 210, 211, 218, 220, 222, 227, 228, 229, 231, 236, 243, 252]\n",
    "# gs_array = [9, 30, 225, 246]\n",
    "# gs_array = [9, 30, 45, 53, 202, 210, 225, 246]\n",
    "# gs_array = [18, 43, 45, 210, 212, 237]\n",
    "# gs_array = [44, 47, 82, 84, 171, 173, 208, 211]\n",
    "# gs_array = [71, 78, 119, 136, 177, 184]\n",
    "# gs_array  = [33, 45, 53, 60, 65, 66, 68, 78, 86, 101, 108, 116, 126, 129, 139, 147, 154, 169, 177, 187, 189, 190, 195, 202, 210, 222]\n",
    "gs_array = [63, 95, 160, 192]\n",
    "print(gs_array)\n",
    "print([bin(i)[2:].zfill(N) for i in gs_array] )\n",
    "dim = len(gs_array)\n",
    "\n",
    "Aij = np.zeros((dim,dim))\n",
    "\n",
    "max_h_d = 0\n",
    "m_h_d_info = []\n",
    "for i in range(dim):\n",
    "    for j in range(dim):\n",
    "        if i != j:\n",
    "            h_d = hamming_distance(gs_array[i],gs_array[j],8)\n",
    "            if h_d > max_h_d and h_d <= N/2:\n",
    "                max_h_d = h_d\n",
    "                m_h_d_info = [(i,j), h_d]\n",
    "            if h_d <= N/2:\n",
    "                Aij[i][j] = Aij[j][i] = np.exp(-h_d)\n",
    "\n",
    "\n",
    "print(m_h_d_info)\n",
    "Deg = np.zeros((dim,dim))\n",
    "np.fill_diagonal(Deg,[sum(row) for row in Aij])\n",
    "\n",
    "Lap = Deg - Aij\n",
    "\n",
    "\n",
    "\n",
    "\n",
    "\n",
    "# print(Aij)\n",
    "# print(Deg)\n",
    "# print(Lap)\n",
    "\n",
    "\n",
    "evals, evec = np.linalg.eig(Lap)\n",
    "\n",
    "print(evals)\n",
    "evec_i = evals.argsort()[1]\n",
    "print(evals.argsort())\n",
    "evec_1 = evec[:,evec_i]\n",
    "evec_2 = evec[:,evals.argsort()[2]]\n",
    "\n",
    "\n",
    "print(evec_2)\n",
    "print(evec_1)\n",
    "\n",
    "\n",
    "\n",
    "reduced_gs = []\n",
    "\n",
    "for i in range(len(evec_2)):\n",
    "    if evec_2[i] < 0:\n",
    "        reduced_gs.append(gs_array[i])\n",
    "\n",
    "print(reduced_gs)\n",
    "\n",
    "overlap_dist = overlap_distribution(reduced_gs,N)\n",
    "\n",
    "\n",
    "\n",
    "bin_width = 0.1\n",
    "shift_amount = bin_width/2\n",
    "left_edge = np.min(overlap_dist) - shift_amount\n",
    "right_edge = np.max(overlap_dist) + shift_amount\n",
    "\n",
    "plt.hist(overlap_dist,bins=np.arange(left_edge, right_edge + bin_width, bin_width))\n",
    "plt.show()\n",
    "\n",
    "\n",
    "reduced_gs = []\n",
    "\n",
    "for i in range(len(evec_1)):\n",
    "    if evec_1[i] > 0:\n",
    "        reduced_gs.append(gs_array[i])\n",
    "\n",
    "print(reduced_gs)\n",
    "\n",
    "# reduced_gs = [33, 45, 53, 60, 65, 66, 68, 78, 86, 101, 108, 116, 126, 129, 139, 147, 154, 169, 177, 187, 189, 190, 195, 202, 210, 222]\n",
    "\n",
    "overlap_dist = overlap_distribution(reduced_gs,N)\n",
    "\n",
    "\n",
    "\n",
    "bin_width = 0.1\n",
    "shift_amount = bin_width/2\n",
    "left_edge = np.min(overlap_dist) - shift_amount\n",
    "right_edge = np.max(overlap_dist) + shift_amount\n",
    "\n",
    "plt.hist(overlap_dist,bins=np.arange(left_edge, right_edge + bin_width, bin_width))\n",
    "plt.show()\n",
    "\n"
   ]
  },
  {
   "cell_type": "code",
   "execution_count": 285,
   "metadata": {},
   "outputs": [
    {
     "name": "stdout",
     "output_type": "stream",
     "text": [
      "[33, 45, 53, 60, 65, 66, 68, 78, 86, 101, 108, 116, 126, 129, 139, 147, 154, 169, 177, 187, 189, 190, 195, 202, 210, 222]\n",
      "['00100001', '00101101', '00110101', '00111100', '01000001', '01000010', '01000100', '01001110', '01010110', '01100101', '01101100', '01110100', '01111110', '10000001', '10001011', '10010011', '10011010', '10101001', '10110001', '10111011', '10111101', '10111110', '11000011', '11001010', '11010010', '11011110']\n",
      "runs\n",
      "runs\n",
      "Graph with 26 nodes and 312 edges\n",
      "maximal clique: [0, 24, 2, 3, 4, 20, 19, 18, 8, 16, 10, 11, 12]\n",
      "maximal clique length: 13\n",
      "len(gs)/2: 13\n"
     ]
    }
   ],
   "source": [
    "import networkx as nx\n",
    "\n",
    "\n",
    "N=8\n",
    "# gs_array = [3, 12, 19, 24, 26, 27, 28, 33, 35, 37, 44, 45, 82, 83, 90, 92, 94, 99, 100, 101, 103, 108, 115, 124, 131, 140, 147, 152, 154, 155, 156, 161, 163, 165, 172, 173, 210, 211, 218, 220, 222, 227, 228, 229, 231, 236, 243, 252]\n",
    "# gs_array = [9, 30, 225, 246]\n",
    "# gs_array = [9, 30, 45, 53, 202, 210, 225, 246]\n",
    "# gs_array = [18, 43, 45, 210, 212, 237]\n",
    "# gs_array = [44, 47, 82, 84, 171, 173, 208, 211]\n",
    "# gs_array = [71, 78, 119, 136, 177, 184]\n",
    "gs_array  = [33, 45, 53, 60, 65, 66, 68, 78, 86, 101, 108, 116, 126, 129, 139, 147, 154, 169, 177, 187, 189, 190, 195, 202, 210, 222]\n",
    "print(gs_array)\n",
    "print([bin(i)[2:].zfill(N) for i in gs_array] )\n",
    "dim = len(gs_array)\n",
    "\n",
    "\n",
    "\n",
    "maximal_clique_len = 0\n",
    "min_hd_gt = N\n",
    "max_h_d = N/2\n",
    "while maximal_clique_len < dim/2:\n",
    "    Aij = np.zeros((dim,dim))\n",
    "    for i in range(dim):\n",
    "        for j in range(dim):\n",
    "            if i != j:\n",
    "                h_d = hamming_distance(gs_array[i],gs_array[j],N)\n",
    "                if h_d <= max_h_d:\n",
    "                    Aij[i][j] = Aij[j][i] = np.exp(-h_d)\n",
    "                else:\n",
    "                    if h_d < min_hd_gt:\n",
    "                        min_hd_gt = h_d\n",
    "    max_h_d = min_hd_gt\n",
    "\n",
    "\n",
    "    maximal_clique = max(nx.find_cliques(nx.Graph(Aij)), key=len)\n",
    "    maximal_clique_len = len(maximal_clique)\n",
    "\n",
    "\n",
    "# print(Aij)\n",
    "print(nx.Graph(Aij))\n",
    "\n",
    "\n",
    "print(\"maximal clique:\", maximal_clique)\n",
    "print(\"maximal clique length:\", maximal_clique_len)\n",
    "print(\"len(gs)/2:\", dim//2)\n",
    "\n",
    "\n"
   ]
  },
  {
   "cell_type": "code",
   "execution_count": 290,
   "metadata": {},
   "outputs": [
    {
     "data": {
      "text/plain": [
       "array([ 33,  53,  60,  65,  86, 108, 116, 126, 154, 177, 187, 189, 210])"
      ]
     },
     "execution_count": 290,
     "metadata": {},
     "output_type": "execute_result"
    }
   ],
   "source": [
    "np.sort([gs_array[i] for i in [0, 24, 2, 3, 4, 20, 19, 18, 8, 16, 10, 11, 12]])"
   ]
  },
  {
   "cell_type": "code",
   "execution_count": null,
   "metadata": {},
   "outputs": [],
   "source": [
    "[33, 45, 53, 60, 65, 101, 108, 116, 129, 169, 177, 187, 189]"
   ]
  }
 ],
 "metadata": {
  "kernelspec": {
   "display_name": "Python 3",
   "language": "python",
   "name": "python3"
  },
  "language_info": {
   "codemirror_mode": {
    "name": "ipython",
    "version": 3
   },
   "file_extension": ".py",
   "mimetype": "text/x-python",
   "name": "python",
   "nbconvert_exporter": "python",
   "pygments_lexer": "ipython3",
   "version": "3.12.2"
  }
 },
 "nbformat": 4,
 "nbformat_minor": 2
}
