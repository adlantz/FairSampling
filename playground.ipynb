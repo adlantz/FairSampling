{
 "cells": [
  {
   "cell_type": "code",
   "execution_count": 7,
   "metadata": {},
   "outputs": [
    {
     "name": "stderr",
     "output_type": "stream",
     "text": [
      "100% |########################################################################|\n",
      "100% |########################################################################|\r"
     ]
    },
    {
     "name": "stdout",
     "output_type": "stream",
     "text": [
      "Building JZZ...\n",
      "Done.\n",
      "Building Mx...\n",
      "Done.\n",
      "(16, 16)\n",
      "[-2.  2.  2.  2.  0.  0.  0. -4. -4.  0.  0.  0.  2.  2.  2. -2.]\n"
     ]
    },
    {
     "name": "stderr",
     "output_type": "stream",
     "text": [
      "\n"
     ]
    }
   ],
   "source": [
    "from tfim_sk_infd.services import jij_service\n",
    "from tfim_sk_infd.models.SKSpinGlass import SKSpinGlass\n",
    "import numpy\n",
    "import sys\n",
    "\n",
    "numpy.set_printoptions(threshold=sys.maxsize)\n",
    "\n",
    "T = 4\n",
    "\n",
    "Jij_instance = jij_service.get_toy_Jij(T)\n",
    "SG = SKSpinGlass(Jij_instance)\n",
    "\n",
    "print(SG.JZZ.get_shape())\n",
    "\n",
    "print(SG.JZZ.diagonal() )"
   ]
  },
  {
   "cell_type": "code",
   "execution_count": 4,
   "metadata": {},
   "outputs": [],
   "source": [
    "import numpy as np\n",
    "\n",
    "# Original NumPy array\n",
    "original_array = np.array([[1, 2, 3], [4, 5, 6]])\n",
    "\n",
    "# Convert the NumPy array to a string\n",
    "array_string = np.array2string(original_array)"
   ]
  },
  {
   "cell_type": "code",
   "execution_count": 5,
   "metadata": {},
   "outputs": [
    {
     "name": "stdout",
     "output_type": "stream",
     "text": [
      "[[1 2 3]\n",
      " [4 5 6]]\n"
     ]
    }
   ],
   "source": [
    "print(array_string)"
   ]
  },
  {
   "cell_type": "code",
   "execution_count": 9,
   "metadata": {},
   "outputs": [
    {
     "data": {
      "text/plain": [
       "array([[1, 2, 3],\n",
       "       [4, 5, 6]])"
      ]
     },
     "execution_count": 9,
     "metadata": {},
     "output_type": "execute_result"
    }
   ],
   "source": [
    "import json\n",
    "original_array = np.array([[1, 2, 3], [4, 5, 6]])\n",
    "\n",
    "arr_str = json.dumps(original_array.tolist())\n",
    "np.array(json.loads(arr_str))"
   ]
  },
  {
   "cell_type": "code",
   "execution_count": 10,
   "metadata": {},
   "outputs": [
    {
     "data": {
      "text/plain": [
       "28.0"
      ]
     },
     "execution_count": 10,
     "metadata": {},
     "output_type": "execute_result"
    }
   ],
   "source": [
    "N=8\n",
    "(N*(N-1)) / 2"
   ]
  },
  {
   "cell_type": "code",
   "execution_count": 47,
   "metadata": {},
   "outputs": [
    {
     "name": "stdout",
     "output_type": "stream",
     "text": [
      "[9, 30]\n"
     ]
    }
   ],
   "source": [
    "from tfim_sk_infd.services import jij_service, ground_state_service, qutip_service\n",
    "import numpy as np\n",
    "\n",
    "# Get an instance and find ground state\n",
    "seed = 0\n",
    "N = 8\n",
    "Jij = jij_service.Jij_instance(N, seed)\n",
    "JZZ = jij_service.JZZ_SK(Jij)\n",
    "gs_list = np.where(JZZ.diagonal() == JZZ.diagonal().max())[0]\n",
    "\n",
    "# Pull out half of the ground states and determine maximum hd\n",
    "reduced_gs, max_h_d = ground_state_service.maximal_half_clique(gs_list, N)\n",
    "\n",
    "print(reduced_gs)\n",
    "\n",
    "gs_size = len(reduced_gs)\n",
    "\n",
    "# Find quantum annealing final state\n",
    "Hp = qutip_service.spin_glass_hamiltonian(Jij, N)\n",
    "Ht = qutip_service.transverse_field_hamiltonian(N)\n",
    "\n",
    "h = 1e-2\n",
    "h_t = (-Hp*(1-h)) - (h * Ht)\n",
    "\n",
    "eigenvalues, eigenstates = h_t.eigenstates(eigvals = 1)\n",
    "\n",
    "# print(eigenstates[0])\n",
    "\n",
    "annealing_gs_probs = qutip_service.quantum_anneal(Hp, Ht, N, 1000, 100)"
   ]
  },
  {
   "cell_type": "code",
   "execution_count": 48,
   "metadata": {},
   "outputs": [
    {
     "data": {
      "text/plain": [
       "array([0.49998355+0.j, 0.499984  +0.j, 0.49998385+0.j, 0.49998421+0.j])"
      ]
     },
     "execution_count": 48,
     "metadata": {},
     "output_type": "execute_result"
    }
   ],
   "source": [
    "eigenstates[0].full().flatten()[gs_list]"
   ]
  },
  {
   "cell_type": "code",
   "execution_count": 34,
   "metadata": {},
   "outputs": [
    {
     "data": {
      "text/plain": [
       "array([0.24999996, 0.24999996, 0.24999996, 0.24999996])"
      ]
     },
     "execution_count": 34,
     "metadata": {},
     "output_type": "execute_result"
    }
   ],
   "source": [
    "np.array(annealing_gs_probs)[gs_list]"
   ]
  },
  {
   "cell_type": "code",
   "execution_count": 51,
   "metadata": {},
   "outputs": [
    {
     "name": "stdout",
     "output_type": "stream",
     "text": [
      "Condition number: 8.621715046583702e+17\n",
      "Condition number: inf\n",
      "Condition number: 1.8073537748923588e+16\n",
      "Condition number: 1.1143847909944384e+17\n",
      "Condition number: 6.501768394827755e+16\n",
      "Condition number: 1.2890019807250006e+17\n",
      "Condition number: 1.2631674856366051e+17\n",
      "inf\n"
     ]
    }
   ],
   "source": [
    "for h in (1, 0, 1e-1, 1e-2, 1e-3, 1e-4, 1e-5 ):\n",
    "    h_t = (-Hp*(1-h)) - (h * Ht)\n",
    "\n",
    "    # Calculate condition number\n",
    "    cond_number = np.linalg.cond(h_t.full())\n",
    "    print(\"Condition number:\", cond_number)\n",
    "\n",
    "print(np.linalg.cond(Hp.full()))"
   ]
  },
  {
   "cell_type": "code",
   "execution_count": 60,
   "metadata": {},
   "outputs": [
    {
     "name": "stdout",
     "output_type": "stream",
     "text": [
      "[[ 6.+0.j  0.+0.j  0.+0.j  0.+0.j  0.+0.j]\n",
      " [ 0.+0.j -6.+0.j  0.+0.j  0.+0.j  0.+0.j]\n",
      " [ 0.+0.j  0.+0.j -4.+0.j  0.+0.j  0.+0.j]\n",
      " [ 0.+0.j  0.+0.j  0.+0.j  2.+0.j  0.+0.j]\n",
      " [ 0.+0.j  0.+0.j  0.+0.j  0.+0.j  4.+0.j]]\n",
      "3.0\n"
     ]
    }
   ],
   "source": [
    "h_test = Hp.full()[1:6,1:6]\n",
    "print(h_test)\n",
    "print(np.linalg.cond(h_test))"
   ]
  },
  {
   "cell_type": "code",
   "execution_count": 5,
   "metadata": {},
   "outputs": [],
   "source": [
    "from tfim_sk_infd.services import ground_state_service\n",
    "import numpy as np\n",
    "\n",
    "N = 8\n",
    "gs = [9,30]\n",
    "\n",
    "overlap_dist = ground_state_service.overlap_distribution(gs, N)\n",
    "overlap_dist = overlap_dist.tolist()\n",
    "od_mean = np.mean(overlap_dist)\n",
    "od_variance = np.var(overlap_dist)\n",
    "\n",
    "hd = ground_state_service.base_N_hamming_distance(9,30,8)"
   ]
  },
  {
   "cell_type": "code",
   "execution_count": 6,
   "metadata": {},
   "outputs": [
    {
     "name": "stdout",
     "output_type": "stream",
     "text": [
      "[1.0, 0.0, 1.0]\n",
      "0.6666666666666666\n",
      "0.22222222222222224\n",
      "4\n"
     ]
    }
   ],
   "source": [
    "print(overlap_dist)\n",
    "print(od_mean)\n",
    "print(od_variance)\n",
    "print(hd)"
   ]
  },
  {
   "cell_type": "code",
   "execution_count": 14,
   "metadata": {},
   "outputs": [],
   "source": [
    "import data_service\n",
    "from database.models import InstancesN8\n",
    "from tfim_sk_infd.services import qutip_service\n",
    "from tfim_sk_infd.models.Jij import Jij\n",
    "import numpy as np\n",
    "\n",
    "N = 8\n",
    "h = 1e-2\n",
    "\n",
    "with data_service.get_session() as session:\n",
    "\n",
    "    instance = session.query(InstancesN8).where(InstancesN8.seed == 1).all()[0]\n",
    "    Jij_obj = Jij(np.array(instance.Jij_matrix))\n",
    "\n",
    "    Ht = qutip_service.transverse_field_hamiltonian(N)\n",
    "    Hp = qutip_service.spin_glass_hamiltonian(Jij_obj, N)\n",
    "\n",
    "    h_t = -Hp - h * Ht\n",
    "\n",
    "    eigenvalues, eigenstates = h_t.eigenstates(eigvals=1)\n",
    "\n",
    "    gs_probs = [\n",
    "        round(2 * float(pa.real**2 + pa.imag**2),5)\n",
    "        for pa in eigenstates[0].full().flatten()[instance.reduced_gs]\n",
    "    ]\n",
    "\n",
    "    if abs(sum(gs_probs) - 1) > 1e-2:\n",
    "        print(\n",
    "            f\"seed {instance.seed} diagonalization fail. gs prob array sum {sum(gs_probs)}\\n{gs_probs}\"\n",
    "        )"
   ]
  },
  {
   "cell_type": "code",
   "execution_count": 15,
   "metadata": {},
   "outputs": [
    {
     "data": {
      "text/plain": [
       "[0.49997, 0.49997]"
      ]
     },
     "execution_count": 15,
     "metadata": {},
     "output_type": "execute_result"
    }
   ],
   "source": [
    "gs_probs"
   ]
  },
  {
   "cell_type": "code",
   "execution_count": 3,
   "metadata": {},
   "outputs": [
    {
     "name": "stderr",
     "output_type": "stream",
     "text": [
      "100%|██████████| 100/100 [00:10<00:00,  9.49it/s]\n"
     ]
    }
   ],
   "source": [
    "from tqdm import tqdm\n",
    "import time\n",
    "\n",
    "# Example loop\n",
    "for i in tqdm(range(100)):\n",
    "    # Simulate some work with a sleep\n",
    "    time.sleep(0.1)"
   ]
  },
  {
   "cell_type": "code",
   "execution_count": null,
   "metadata": {},
   "outputs": [],
   "source": [
    "\"\"\"\n",
    "python3 -m scripts.add_instances           \n",
    "python3 -m scripts.update_degeneracy_col\n",
    "python3 -m scripts.update_reduced_gs_hd\n",
    "python3 -m scripts.update_overlap_dist \n",
    "python3 -m scripts.update_post_anneal_gs_probs\n",
    "python3 -m scripts.update_post_anneal_cols    \n",
    "python3 -m scripts.update_post_anneal_gs_hd\n",
    "\"\"\""
   ]
  }
 ],
 "metadata": {
  "kernelspec": {
   "display_name": "Python 3",
   "language": "python",
   "name": "python3"
  },
  "language_info": {
   "codemirror_mode": {
    "name": "ipython",
    "version": 3
   },
   "file_extension": ".py",
   "mimetype": "text/x-python",
   "name": "python",
   "nbconvert_exporter": "python",
   "pygments_lexer": "ipython3",
   "version": "3.12.2"
  }
 },
 "nbformat": 4,
 "nbformat_minor": 2
}
