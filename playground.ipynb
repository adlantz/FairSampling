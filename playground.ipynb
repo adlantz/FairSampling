{
 "cells": [
  {
   "cell_type": "code",
   "execution_count": 7,
   "metadata": {},
   "outputs": [
    {
     "name": "stderr",
     "output_type": "stream",
     "text": [
      "100% |########################################################################|\n",
      "100% |########################################################################|\r"
     ]
    },
    {
     "name": "stdout",
     "output_type": "stream",
     "text": [
      "Building JZZ...\n",
      "Done.\n",
      "Building Mx...\n",
      "Done.\n",
      "(16, 16)\n",
      "[-2.  2.  2.  2.  0.  0.  0. -4. -4.  0.  0.  0.  2.  2.  2. -2.]\n"
     ]
    },
    {
     "name": "stderr",
     "output_type": "stream",
     "text": [
      "\n"
     ]
    }
   ],
   "source": [
    "from tfim_sk_infd.services import jij_service\n",
    "from tfim_sk_infd.models.SKSpinGlass import SKSpinGlass\n",
    "import numpy\n",
    "import sys\n",
    "\n",
    "numpy.set_printoptions(threshold=sys.maxsize)\n",
    "\n",
    "T = 4\n",
    "\n",
    "Jij_instance = jij_service.get_toy_Jij(T)\n",
    "SG = SKSpinGlass(Jij_instance)\n",
    "\n",
    "print(SG.JZZ.get_shape())\n",
    "\n",
    "print(SG.JZZ.diagonal() )"
   ]
  },
  {
   "cell_type": "code",
   "execution_count": null,
   "metadata": {},
   "outputs": [],
   "source": []
  }
 ],
 "metadata": {
  "kernelspec": {
   "display_name": "Python 3",
   "language": "python",
   "name": "python3"
  },
  "language_info": {
   "codemirror_mode": {
    "name": "ipython",
    "version": 3
   },
   "file_extension": ".py",
   "mimetype": "text/x-python",
   "name": "python",
   "nbconvert_exporter": "python",
   "pygments_lexer": "ipython3",
   "version": "3.11.7"
  }
 },
 "nbformat": 4,
 "nbformat_minor": 2
}
