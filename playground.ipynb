{
 "cells": [
  {
   "cell_type": "code",
   "execution_count": 7,
   "metadata": {},
   "outputs": [
    {
     "name": "stderr",
     "output_type": "stream",
     "text": [
      "100% |########################################################################|\n",
      "100% |########################################################################|\r"
     ]
    },
    {
     "name": "stdout",
     "output_type": "stream",
     "text": [
      "Building JZZ...\n",
      "Done.\n",
      "Building Mx...\n",
      "Done.\n",
      "(16, 16)\n",
      "[-2.  2.  2.  2.  0.  0.  0. -4. -4.  0.  0.  0.  2.  2.  2. -2.]\n"
     ]
    },
    {
     "name": "stderr",
     "output_type": "stream",
     "text": [
      "\n"
     ]
    }
   ],
   "source": [
    "from tfim_sk_infd.services import jij_service\n",
    "from tfim_sk_infd.models.SKSpinGlass import SKSpinGlass\n",
    "import numpy\n",
    "import sys\n",
    "\n",
    "numpy.set_printoptions(threshold=sys.maxsize)\n",
    "\n",
    "T = 4\n",
    "\n",
    "Jij_instance = jij_service.get_toy_Jij(T)\n",
    "SG = SKSpinGlass(Jij_instance)\n",
    "\n",
    "print(SG.JZZ.get_shape())\n",
    "\n",
    "print(SG.JZZ.diagonal() )"
   ]
  },
  {
   "cell_type": "code",
   "execution_count": 4,
   "metadata": {},
   "outputs": [],
   "source": [
    "import numpy as np\n",
    "\n",
    "# Original NumPy array\n",
    "original_array = np.array([[1, 2, 3], [4, 5, 6]])\n",
    "\n",
    "# Convert the NumPy array to a string\n",
    "array_string = np.array2string(original_array)"
   ]
  },
  {
   "cell_type": "code",
   "execution_count": 5,
   "metadata": {},
   "outputs": [
    {
     "name": "stdout",
     "output_type": "stream",
     "text": [
      "[[1 2 3]\n",
      " [4 5 6]]\n"
     ]
    }
   ],
   "source": [
    "print(array_string)"
   ]
  },
  {
   "cell_type": "code",
   "execution_count": 9,
   "metadata": {},
   "outputs": [
    {
     "data": {
      "text/plain": [
       "array([[1, 2, 3],\n",
       "       [4, 5, 6]])"
      ]
     },
     "execution_count": 9,
     "metadata": {},
     "output_type": "execute_result"
    }
   ],
   "source": [
    "import json\n",
    "original_array = np.array([[1, 2, 3], [4, 5, 6]])\n",
    "\n",
    "arr_str = json.dumps(original_array.tolist())\n",
    "np.array(json.loads(arr_str))"
   ]
  },
  {
   "cell_type": "code",
   "execution_count": 10,
   "metadata": {},
   "outputs": [
    {
     "data": {
      "text/plain": [
       "28.0"
      ]
     },
     "execution_count": 10,
     "metadata": {},
     "output_type": "execute_result"
    }
   ],
   "source": [
    "N=8\n",
    "(N*(N-1)) / 2"
   ]
  },
  {
   "cell_type": "code",
   "execution_count": 47,
   "metadata": {},
   "outputs": [
    {
     "name": "stdout",
     "output_type": "stream",
     "text": [
      "[9, 30]\n"
     ]
    }
   ],
   "source": [
    "from tfim_sk_infd.services import jij_service, ground_state_service, qutip_service\n",
    "import numpy as np\n",
    "\n",
    "# Get an instance and find ground state\n",
    "seed = 0\n",
    "N = 8\n",
    "Jij = jij_service.Jij_instance(N, seed)\n",
    "JZZ = jij_service.JZZ_SK(Jij)\n",
    "gs_list = np.where(JZZ.diagonal() == JZZ.diagonal().max())[0]\n",
    "\n",
    "# Pull out half of the ground states and determine maximum hd\n",
    "reduced_gs, max_h_d = ground_state_service.maximal_half_clique(gs_list, N)\n",
    "\n",
    "print(reduced_gs)\n",
    "\n",
    "gs_size = len(reduced_gs)\n",
    "\n",
    "# Find quantum annealing final state\n",
    "Hp = qutip_service.spin_glass_hamiltonian(Jij, N)\n",
    "Ht = qutip_service.transverse_field_hamiltonian(N)\n",
    "\n",
    "h = 1e-2\n",
    "h_t = (-Hp*(1-h)) - (h * Ht)\n",
    "\n",
    "eigenvalues, eigenstates = h_t.eigenstates(eigvals = 1)\n",
    "\n",
    "# print(eigenstates[0])\n",
    "\n",
    "annealing_gs_probs = qutip_service.quantum_anneal(Hp, Ht, N, 1000, 100)"
   ]
  },
  {
   "cell_type": "code",
   "execution_count": 48,
   "metadata": {},
   "outputs": [
    {
     "data": {
      "text/plain": [
       "array([0.49998355+0.j, 0.499984  +0.j, 0.49998385+0.j, 0.49998421+0.j])"
      ]
     },
     "execution_count": 48,
     "metadata": {},
     "output_type": "execute_result"
    }
   ],
   "source": [
    "eigenstates[0].full().flatten()[gs_list]"
   ]
  },
  {
   "cell_type": "code",
   "execution_count": 34,
   "metadata": {},
   "outputs": [
    {
     "data": {
      "text/plain": [
       "array([0.24999996, 0.24999996, 0.24999996, 0.24999996])"
      ]
     },
     "execution_count": 34,
     "metadata": {},
     "output_type": "execute_result"
    }
   ],
   "source": [
    "np.array(annealing_gs_probs)[gs_list]"
   ]
  },
  {
   "cell_type": "code",
   "execution_count": 51,
   "metadata": {},
   "outputs": [
    {
     "name": "stdout",
     "output_type": "stream",
     "text": [
      "Condition number: 8.621715046583702e+17\n",
      "Condition number: inf\n",
      "Condition number: 1.8073537748923588e+16\n",
      "Condition number: 1.1143847909944384e+17\n",
      "Condition number: 6.501768394827755e+16\n",
      "Condition number: 1.2890019807250006e+17\n",
      "Condition number: 1.2631674856366051e+17\n",
      "inf\n"
     ]
    }
   ],
   "source": [
    "for h in (1, 0, 1e-1, 1e-2, 1e-3, 1e-4, 1e-5 ):\n",
    "    h_t = (-Hp*(1-h)) - (h * Ht)\n",
    "\n",
    "    # Calculate condition number\n",
    "    cond_number = np.linalg.cond(h_t.full())\n",
    "    print(\"Condition number:\", cond_number)\n",
    "\n",
    "print(np.linalg.cond(Hp.full()))"
   ]
  },
  {
   "cell_type": "code",
   "execution_count": 60,
   "metadata": {},
   "outputs": [
    {
     "name": "stdout",
     "output_type": "stream",
     "text": [
      "[[ 6.+0.j  0.+0.j  0.+0.j  0.+0.j  0.+0.j]\n",
      " [ 0.+0.j -6.+0.j  0.+0.j  0.+0.j  0.+0.j]\n",
      " [ 0.+0.j  0.+0.j -4.+0.j  0.+0.j  0.+0.j]\n",
      " [ 0.+0.j  0.+0.j  0.+0.j  2.+0.j  0.+0.j]\n",
      " [ 0.+0.j  0.+0.j  0.+0.j  0.+0.j  4.+0.j]]\n",
      "3.0\n"
     ]
    }
   ],
   "source": [
    "h_test = Hp.full()[1:6,1:6]\n",
    "print(h_test)\n",
    "print(np.linalg.cond(h_test))"
   ]
  },
  {
   "cell_type": "code",
   "execution_count": null,
   "metadata": {},
   "outputs": [],
   "source": []
  }
 ],
 "metadata": {
  "kernelspec": {
   "display_name": "Python 3",
   "language": "python",
   "name": "python3"
  },
  "language_info": {
   "codemirror_mode": {
    "name": "ipython",
    "version": 3
   },
   "file_extension": ".py",
   "mimetype": "text/x-python",
   "name": "python",
   "nbconvert_exporter": "python",
   "pygments_lexer": "ipython3",
   "version": "3.12.2"
  }
 },
 "nbformat": 4,
 "nbformat_minor": 2
}
