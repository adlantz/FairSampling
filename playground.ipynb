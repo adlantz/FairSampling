{
 "cells": [
  {
   "cell_type": "code",
   "execution_count": 9,
   "metadata": {},
   "outputs": [
    {
     "data": {
      "text/plain": [
       "8"
      ]
     },
     "execution_count": 9,
     "metadata": {},
     "output_type": "execute_result"
    }
   ],
   "source": [
    "from helper import Jij_instance\n",
    "\n",
    "\n",
    "jij_matrix = Jij_instance(8,1)\n",
    "jij_matrix.shape[1]\n"
   ]
  },
  {
   "cell_type": "code",
   "execution_count": 13,
   "metadata": {},
   "outputs": [
    {
     "data": {
      "text/plain": [
       "array([[ 0,  1, -1, -1],\n",
       "       [ 0, -1,  0, -1]])"
      ]
     },
     "execution_count": 13,
     "metadata": {},
     "output_type": "execute_result"
    }
   ],
   "source": [
    "import numpy as np\n",
    "np.loadtxt(\"scripts/toy_models/ToyJijs/\" + str(4) + \".dat\").astype(int)"
   ]
  },
  {
   "cell_type": "code",
   "execution_count": null,
   "metadata": {},
   "outputs": [],
   "source": [
    "import numpy as np\n",
    "\n",
    "\n",
    "def Jij_instance(N, seed):\n",
    "    \"\"\"Generates a bimodal instance of Jij with even numbers of ferromagnetic and anti-ferromagnetic bonds\"\"\"\n",
    "\n",
    "    np.random.seed(seed)\n",
    "\n",
    "    num_of_bonds = (N * (N - 1)) // 2\n",
    "    if N % 4 == 0:\n",
    "        a1 = [-1 for i in range(num_of_bonds // 2)]\n",
    "    else:\n",
    "        a1 = [-1 for i in range((num_of_bonds // 2) + 1)]\n",
    "    a2 = [1 for i in range(num_of_bonds // 2)]\n",
    "    a = list(np.random.permutation(a1 + a2))\n",
    "    Jij = [a[(N * j) : N * (j + 1)] for j in range(N // 2)]\n",
    "    if N % 2 == 0:\n",
    "        Jij[(N // 2) - 1] += Jij[(N // 2) - 1]\n",
    "    Jij = np.array(Jij)\n",
    "\n",
    "    return Jij\n"
   ]
  }
 ],
 "metadata": {
  "kernelspec": {
   "display_name": "Python 3",
   "language": "python",
   "name": "python3"
  },
  "language_info": {
   "codemirror_mode": {
    "name": "ipython",
    "version": 3
   },
   "file_extension": ".py",
   "mimetype": "text/x-python",
   "name": "python",
   "nbconvert_exporter": "python",
   "pygments_lexer": "ipython3",
   "version": "3.11.7"
  }
 },
 "nbformat": 4,
 "nbformat_minor": 2
}
