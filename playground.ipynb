{
 "cells": [
  {
   "cell_type": "code",
   "execution_count": 7,
   "metadata": {},
   "outputs": [
    {
     "name": "stderr",
     "output_type": "stream",
     "text": [
      "100% |########################################################################|\n",
      "100% |########################################################################|\r"
     ]
    },
    {
     "name": "stdout",
     "output_type": "stream",
     "text": [
      "Building JZZ...\n",
      "Done.\n",
      "Building Mx...\n",
      "Done.\n",
      "(16, 16)\n",
      "[-2.  2.  2.  2.  0.  0.  0. -4. -4.  0.  0.  0.  2.  2.  2. -2.]\n"
     ]
    },
    {
     "name": "stderr",
     "output_type": "stream",
     "text": [
      "\n"
     ]
    }
   ],
   "source": [
    "from tfim_sk_infd.services import jij_service\n",
    "from tfim_sk_infd.models.SKSpinGlass import SKSpinGlass\n",
    "import numpy\n",
    "import sys\n",
    "\n",
    "numpy.set_printoptions(threshold=sys.maxsize)\n",
    "\n",
    "T = 4\n",
    "\n",
    "Jij_instance = jij_service.get_toy_Jij(T)\n",
    "SG = SKSpinGlass(Jij_instance)\n",
    "\n",
    "print(SG.JZZ.get_shape())\n",
    "\n",
    "print(SG.JZZ.diagonal() )"
   ]
  },
  {
   "cell_type": "code",
   "execution_count": 4,
   "metadata": {},
   "outputs": [],
   "source": [
    "import numpy as np\n",
    "\n",
    "# Original NumPy array\n",
    "original_array = np.array([[1, 2, 3], [4, 5, 6]])\n",
    "\n",
    "# Convert the NumPy array to a string\n",
    "array_string = np.array2string(original_array)"
   ]
  },
  {
   "cell_type": "code",
   "execution_count": 5,
   "metadata": {},
   "outputs": [
    {
     "name": "stdout",
     "output_type": "stream",
     "text": [
      "[[1 2 3]\n",
      " [4 5 6]]\n"
     ]
    }
   ],
   "source": [
    "print(array_string)"
   ]
  },
  {
   "cell_type": "code",
   "execution_count": 9,
   "metadata": {},
   "outputs": [
    {
     "data": {
      "text/plain": [
       "array([[1, 2, 3],\n",
       "       [4, 5, 6]])"
      ]
     },
     "execution_count": 9,
     "metadata": {},
     "output_type": "execute_result"
    }
   ],
   "source": [
    "import json\n",
    "original_array = np.array([[1, 2, 3], [4, 5, 6]])\n",
    "\n",
    "arr_str = json.dumps(original_array.tolist())\n",
    "np.array(json.loads(arr_str))"
   ]
  },
  {
   "cell_type": "code",
   "execution_count": 10,
   "metadata": {},
   "outputs": [
    {
     "data": {
      "text/plain": [
       "28.0"
      ]
     },
     "execution_count": 10,
     "metadata": {},
     "output_type": "execute_result"
    }
   ],
   "source": [
    "N=8\n",
    "(N*(N-1)) / 2"
   ]
  },
  {
   "cell_type": "code",
   "execution_count": 47,
   "metadata": {},
   "outputs": [
    {
     "name": "stdout",
     "output_type": "stream",
     "text": [
      "[9, 30]\n"
     ]
    }
   ],
   "source": [
    "from tfim_sk_infd.services import jij_service, ground_state_service, qutip_service\n",
    "import numpy as np\n",
    "\n",
    "# Get an instance and find ground state\n",
    "seed = 0\n",
    "N = 8\n",
    "Jij = jij_service.Jij_instance(N, seed)\n",
    "JZZ = jij_service.JZZ_SK(Jij)\n",
    "gs_list = np.where(JZZ.diagonal() == JZZ.diagonal().max())[0]\n",
    "\n",
    "# Pull out half of the ground states and determine maximum hd\n",
    "reduced_gs, max_h_d = ground_state_service.maximal_half_clique(gs_list, N)\n",
    "\n",
    "print(reduced_gs)\n",
    "\n",
    "gs_size = len(reduced_gs)\n",
    "\n",
    "# Find quantum annealing final state\n",
    "Hp = qutip_service.spin_glass_hamiltonian(Jij, N)\n",
    "Ht = qutip_service.transverse_field_hamiltonian(N)\n",
    "\n",
    "h = 1e-2\n",
    "h_t = (-Hp*(1-h)) - (h * Ht)\n",
    "\n",
    "eigenvalues, eigenstates = h_t.eigenstates(eigvals = 1)\n",
    "\n",
    "# print(eigenstates[0])\n",
    "\n",
    "annealing_gs_probs = qutip_service.quantum_anneal(Hp, Ht, N, 1000, 100)"
   ]
  },
  {
   "cell_type": "code",
   "execution_count": 48,
   "metadata": {},
   "outputs": [
    {
     "data": {
      "text/plain": [
       "array([0.49998355+0.j, 0.499984  +0.j, 0.49998385+0.j, 0.49998421+0.j])"
      ]
     },
     "execution_count": 48,
     "metadata": {},
     "output_type": "execute_result"
    }
   ],
   "source": [
    "eigenstates[0].full().flatten()[gs_list]"
   ]
  },
  {
   "cell_type": "code",
   "execution_count": 34,
   "metadata": {},
   "outputs": [
    {
     "data": {
      "text/plain": [
       "array([0.24999996, 0.24999996, 0.24999996, 0.24999996])"
      ]
     },
     "execution_count": 34,
     "metadata": {},
     "output_type": "execute_result"
    }
   ],
   "source": [
    "np.array(annealing_gs_probs)[gs_list]"
   ]
  },
  {
   "cell_type": "code",
   "execution_count": 51,
   "metadata": {},
   "outputs": [
    {
     "name": "stdout",
     "output_type": "stream",
     "text": [
      "Condition number: 8.621715046583702e+17\n",
      "Condition number: inf\n",
      "Condition number: 1.8073537748923588e+16\n",
      "Condition number: 1.1143847909944384e+17\n",
      "Condition number: 6.501768394827755e+16\n",
      "Condition number: 1.2890019807250006e+17\n",
      "Condition number: 1.2631674856366051e+17\n",
      "inf\n"
     ]
    }
   ],
   "source": [
    "for h in (1, 0, 1e-1, 1e-2, 1e-3, 1e-4, 1e-5 ):\n",
    "    h_t = (-Hp*(1-h)) - (h * Ht)\n",
    "\n",
    "    # Calculate condition number\n",
    "    cond_number = np.linalg.cond(h_t.full())\n",
    "    print(\"Condition number:\", cond_number)\n",
    "\n",
    "print(np.linalg.cond(Hp.full()))"
   ]
  },
  {
   "cell_type": "code",
   "execution_count": 60,
   "metadata": {},
   "outputs": [
    {
     "name": "stdout",
     "output_type": "stream",
     "text": [
      "[[ 6.+0.j  0.+0.j  0.+0.j  0.+0.j  0.+0.j]\n",
      " [ 0.+0.j -6.+0.j  0.+0.j  0.+0.j  0.+0.j]\n",
      " [ 0.+0.j  0.+0.j -4.+0.j  0.+0.j  0.+0.j]\n",
      " [ 0.+0.j  0.+0.j  0.+0.j  2.+0.j  0.+0.j]\n",
      " [ 0.+0.j  0.+0.j  0.+0.j  0.+0.j  4.+0.j]]\n",
      "3.0\n"
     ]
    }
   ],
   "source": [
    "h_test = Hp.full()[1:6,1:6]\n",
    "print(h_test)\n",
    "print(np.linalg.cond(h_test))"
   ]
  },
  {
   "cell_type": "code",
   "execution_count": 20,
   "metadata": {},
   "outputs": [],
   "source": [
    "from tfim_sk_infd.services import ground_state_service\n",
    "import numpy as np\n",
    "\n",
    "N = 8\n",
    "gs = [9,30]\n",
    "\n",
    "overlap_dist = ground_state_service.overlap_distribution_fair(gs, N)\n",
    "overlap_dist = overlap_dist.tolist()\n",
    "od_mean = np.mean(overlap_dist)\n",
    "manual_mean = sum([ ( ((2*i)/N) - 1) * overlap_dist[i] for i in range(N+1)])\n",
    "manual_mean_bucket = sum([ i * overlap_dist[i] for i in range(N+1)])\n",
    "od_variance = np.var(overlap_dist)\n",
    "manual_variance = sum([ (( (((2*i)/N) - 1) **2) * overlap_dist[i]) - (manual_mean**2) for i in range(N+1)])\n",
    "manual_variance_bucket = sum([ ((i**2) * overlap_dist[i]) - (manual_mean_bucket**2) for i in range(N+1)])\n",
    "\n",
    "hd = ground_state_service.base_N_hamming_distance(9,30,8)"
   ]
  },
  {
   "cell_type": "code",
   "execution_count": 21,
   "metadata": {},
   "outputs": [
    {
     "name": "stdout",
     "output_type": "stream",
     "text": [
      "[0.0, 0.0, 0.0, 0.0, 0.5, 0.0, 0.0, 0.0, 0.5]\n",
      "0.5\n",
      "6.0\n",
      "0.5\n",
      "0.1111111111111111\n",
      "0.043209876543209874\n",
      "-1.75\n",
      "-284.0\n",
      "4\n"
     ]
    }
   ],
   "source": [
    "\n",
    "bucket_vals = [ ( ((2*i)/N) - 1)  for i in range(N+1)]\n",
    "\n",
    "print(overlap_dist)\n",
    "print(manual_mean)\n",
    "print(manual_mean_bucket)\n",
    "print(bucket_vals[int(manual_mean_bucket)])\n",
    "print(od_mean)\n",
    "print(od_variance)\n",
    "print(manual_variance)\n",
    "print(manual_variance_bucket)\n",
    "print(hd)"
   ]
  },
  {
   "cell_type": "code",
   "execution_count": 22,
   "metadata": {},
   "outputs": [
    {
     "data": {
      "text/plain": [
       "0.043209876543209874"
      ]
     },
     "execution_count": 22,
     "metadata": {},
     "output_type": "execute_result"
    }
   ],
   "source": [
    "N = 12\n",
    "[((2*i)/N) - 1 for i in range(N+1)]\n",
    "np.var(np.array([0.0, 0.0, 0.0, 0.0, 0.5, 0.0, 0.0, 0.0, 0.5]))"
   ]
  },
  {
   "cell_type": "code",
   "execution_count": 14,
   "metadata": {},
   "outputs": [],
   "source": [
    "import data_service\n",
    "from database.models import InstancesN8\n",
    "from tfim_sk_infd.services import qutip_service\n",
    "from tfim_sk_infd.models.Jij import Jij\n",
    "import numpy as np\n",
    "\n",
    "N = 8\n",
    "h = 1e-2\n",
    "\n",
    "with data_service.get_session() as session:\n",
    "\n",
    "    instance = session.query(InstancesN8).where(InstancesN8.seed == 1).all()[0]\n",
    "    Jij_obj = Jij(np.array(instance.Jij_matrix))\n",
    "\n",
    "    Ht = qutip_service.transverse_field_hamiltonian(N)\n",
    "    Hp = qutip_service.spin_glass_hamiltonian(Jij_obj, N)\n",
    "\n",
    "    h_t = -Hp - h * Ht\n",
    "\n",
    "    eigenvalues, eigenstates = h_t.eigenstates(eigvals=1)\n",
    "\n",
    "    gs_probs = [\n",
    "        round(2 * float(pa.real**2 + pa.imag**2),5)\n",
    "        for pa in eigenstates[0].full().flatten()[instance.reduced_gs]\n",
    "    ]\n",
    "\n",
    "    if abs(sum(gs_probs) - 1) > 1e-2:\n",
    "        print(\n",
    "            f\"seed {instance.seed} diagonalization fail. gs prob array sum {sum(gs_probs)}\\n{gs_probs}\"\n",
    "        )"
   ]
  },
  {
   "cell_type": "code",
   "execution_count": 15,
   "metadata": {},
   "outputs": [
    {
     "data": {
      "text/plain": [
       "[0.49997, 0.49997]"
      ]
     },
     "execution_count": 15,
     "metadata": {},
     "output_type": "execute_result"
    }
   ],
   "source": [
    "gs_probs"
   ]
  },
  {
   "cell_type": "code",
   "execution_count": 3,
   "metadata": {},
   "outputs": [
    {
     "name": "stderr",
     "output_type": "stream",
     "text": [
      "100%|██████████| 100/100 [00:10<00:00,  9.49it/s]\n"
     ]
    }
   ],
   "source": [
    "from tqdm import tqdm\n",
    "import time\n",
    "\n",
    "# Example loop\n",
    "for i in tqdm(range(100)):\n",
    "    # Simulate some work with a sleep\n",
    "    time.sleep(0.1)"
   ]
  },
  {
   "cell_type": "code",
   "execution_count": 1,
   "metadata": {},
   "outputs": [
    {
     "data": {
      "text/plain": [
       "'\\npython3 -m scripts.add_instances           \\npython3 -m scripts.update_degeneracy_col\\npython3 -m scripts.update_reduced_gs_hd\\npython3 -m scripts.update_overlap_dist \\npython3 -m scripts.update_post_anneal_gs_probs\\npython3 -m scripts.update_post_anneal_cols    \\npython3 -m scripts.update_post_anneal_gs_hd\\n'"
      ]
     },
     "execution_count": 1,
     "metadata": {},
     "output_type": "execute_result"
    }
   ],
   "source": [
    "\"\"\"\n",
    "python3 -m scripts.add_instances           \n",
    "python3 -m scripts.update_degeneracy_col\n",
    "python3 -m scripts.update_reduced_gs_hd\n",
    "python3 -m scripts.update_overlap_dist \n",
    "python3 -m scripts.update_post_anneal_gs_probs\n",
    "python3 -m scripts.update_post_anneal_cols    \n",
    "python3 -m scripts.update_post_anneal_gs_hd\n",
    "\"\"\""
   ]
  },
  {
   "cell_type": "code",
   "execution_count": 28,
   "metadata": {},
   "outputs": [
    {
     "name": "stderr",
     "output_type": "stream",
     "text": [
      " 27% |###################                                                     |\r"
     ]
    },
    {
     "name": "stdout",
     "output_type": "stream",
     "text": [
      "Building JZZ...\n"
     ]
    },
    {
     "name": "stderr",
     "output_type": "stream",
     "text": [
      "100% |########################################################################|\n",
      " 73% |####################################################                    |\r"
     ]
    },
    {
     "name": "stdout",
     "output_type": "stream",
     "text": [
      "Done.\n",
      "Building Mx...\n"
     ]
    },
    {
     "name": "stderr",
     "output_type": "stream",
     "text": [
      "100% |########################################################################|\n"
     ]
    },
    {
     "name": "stdout",
     "output_type": "stream",
     "text": [
      "Done.\n",
      "-------------------\n",
      "[6e-05, 0.98599]\n",
      "[3e-05, 0.49299, 0.49822, 3e-05]\n",
      "[6.0000e-05 9.9432e-01]\n",
      "[3.0000e-05 4.9716e-01 4.9406e-01 3.0000e-05]\n",
      "-------------------\n"
     ]
    },
    {
     "name": "stderr",
     "output_type": "stream",
     "text": [
      " 18% |############                                                            |\r"
     ]
    },
    {
     "name": "stdout",
     "output_type": "stream",
     "text": [
      "Building JZZ...\n"
     ]
    },
    {
     "name": "stderr",
     "output_type": "stream",
     "text": [
      "100% |########################################################################|\n",
      " 73% |####################################################                    |\r"
     ]
    },
    {
     "name": "stdout",
     "output_type": "stream",
     "text": [
      "Done.\n",
      "Building Mx...\n"
     ]
    },
    {
     "name": "stderr",
     "output_type": "stream",
     "text": [
      "100% |########################################################################|\n"
     ]
    },
    {
     "name": "stdout",
     "output_type": "stream",
     "text": [
      "Done.\n",
      "-------------------\n",
      "[0.21411, 0.21977, 0.05863, 0.21597, 0.0, 0.21278, 0.05013]\n",
      "[0.10706, 0.10988, 0.0, 0.02931, 0.10639, 0.10799, 0.02506, 0.02506, 0.10799, 0.10639, 0.02931, 0.0, 0.10988, 0.10706]\n",
      "[0.21412 0.21976 0.05862 0.21598 0.      0.21278 0.05012]\n",
      "[0.10706 0.10988 0.      0.02931 0.10639 0.10799 0.02506 0.02506 0.10799\n",
      " 0.10639 0.02931 0.      0.10988 0.10706]\n",
      "-------------------\n"
     ]
    }
   ],
   "source": [
    "import numpy as np\n",
    "from scipy import linalg\n",
    "\n",
    "from database.models import InstancesN12\n",
    "from tfim_sk_infd.services import qutip_service\n",
    "from tfim_sk_infd.models.Jij import Jij\n",
    "from tfim_sk_infd.models.SKSpinGlass import SKSpinGlass\n",
    "import data_service\n",
    "\n",
    "N = 12\n",
    "h = 1e-1\n",
    "\n",
    "\n",
    "with data_service.get_session() as session:\n",
    "\n",
    "    instances = (\n",
    "        session.query(InstancesN12)\n",
    "        .where(InstancesN12.degeneracy > 2)\n",
    "        .all()\n",
    "    )\n",
    "\n",
    "    Ht = qutip_service.transverse_field_hamiltonian(N)\n",
    "    for instance in instances[:2]:\n",
    "\n",
    "\n",
    "        Jij_obj = Jij(np.array(instance.Jij_matrix))\n",
    "\n",
    "        # QuTiP\n",
    "        Hp = qutip_service.spin_glass_hamiltonian(Jij_obj, N)\n",
    "        h_t = -Hp - h * Ht\n",
    "        eigenvalues, eigenstates = h_t.eigenstates(eigvals=1)\n",
    "        gs_probs_q = [\n",
    "            round(2 * float(pa.real**2 + pa.imag**2), 5)\n",
    "            for pa in eigenstates[0].full().flatten()[instance.reduced_gs]\n",
    "        ]\n",
    "        gs_probs_q_full = [\n",
    "            round(float(pa.real**2 + pa.imag**2), 5)\n",
    "            for pa in eigenstates[0].full().flatten()[instance.ground_states]\n",
    "        ]\n",
    "\n",
    "        \n",
    "\n",
    "        # tfim\n",
    "\n",
    "        SG = SKSpinGlass(Jij_obj)\n",
    "\n",
    "        # Define Hamiltonian H at h\n",
    "        H = SG.hamiltonian_at_h(h)\n",
    "\n",
    "        # Diagonalize H and get ground state vector psi0\n",
    "        E, v = linalg.eigh(H.todense())\n",
    "        sort_order = np.argsort(E)\n",
    "        v = v[:, sort_order]\n",
    "        psi0 = v[:, 0]\n",
    "\n",
    "        # retrieve and format probabilities of classical ground states in psi0\n",
    "        gs_probs_tfim = np.array([2* round(psi0[g] ** 2 ,5)for g in instance.reduced_gs])\n",
    "        gs_probs_tfim_full = np.array([round(psi0[g] ** 2,5) for g in instance.ground_states])\n",
    "\n",
    "\n",
    "        # print gs probs\n",
    "\n",
    "        print(\"-------------------\")\n",
    "        print(gs_probs_q)\n",
    "        print(gs_probs_q_full)\n",
    "        print(gs_probs_tfim)\n",
    "        print(gs_probs_tfim_full)\n",
    "        print(\"-------------------\")\n",
    "\n",
    "\n",
    "\n",
    "    session.commit()\n",
    "\n",
    "    session.close()\n"
   ]
  },
  {
   "cell_type": "code",
   "execution_count": 10,
   "metadata": {},
   "outputs": [],
   "source": [
    "o_list = [1.0, 0.6666666666666666, 1.0, 0.6666666666666666, 1.0, 0.3333333333333333, 1.0, 0.3333333333333333, 1.0, 0.0, 1.0, 0.3333333333333333, 1.0, 0.0, 0.0, 0.0, 0.0, 0.0, 0.0, 0.0, 0.0, 0.0, 0.0, 0.0, 0.0, 0.0, 0.0, 0.0]"
   ]
  },
  {
   "cell_type": "code",
   "execution_count": 16,
   "metadata": {},
   "outputs": [
    {
     "data": {
      "text/plain": [
       "(array([ 0,  0,  0,  0,  0,  0, 16,  0,  3,  0,  2,  0,  7]),\n",
       " array([-1.        , -0.84615385, -0.69230769, -0.53846154, -0.38461538,\n",
       "        -0.23076923, -0.07692308,  0.07692308,  0.23076923,  0.38461538,\n",
       "         0.53846154,  0.69230769,  0.84615385,  1.        ]))"
      ]
     },
     "execution_count": 16,
     "metadata": {},
     "output_type": "execute_result"
    }
   ],
   "source": [
    "import numpy as np\n",
    "\n",
    "\n",
    "\n",
    "np.histogram(o_list, bins = 13, range=(-1.0,1.0))"
   ]
  },
  {
   "cell_type": "code",
   "execution_count": 24,
   "metadata": {},
   "outputs": [],
   "source": [
    "def base_N_hamming_distance(i: int, j: int, N: int) -> int:\n",
    "    arr_i = np.array([int(s) for s in bin(i)[2:].zfill(N)])\n",
    "    arr_j = np.array([int(s) for s in bin(j)[2:].zfill(N)])\n",
    "    return int(np.sum(arr_i != arr_j))\n",
    "\n",
    "gs_list = [395, 451, 1219, 2507, 2963, 1483, 2441]\n",
    "gs_probs = [0.21411, 0.21977, 0.05863, 0.21597, 0.0, 0.21278, 0.05013]\n",
    "hd_histogram = np.zeros(13)\n",
    "gs_size = len(gs_list)\n",
    "for i in range(gs_size):\n",
    "    for j in range(i, gs_size):\n",
    "        h_d = base_N_hamming_distance(gs_list[i], gs_list[j], N)\n",
    "        if i != j:\n",
    "            hd_histogram[h_d] += 2* gs_probs[i] * gs_probs[j]\n",
    "        else:\n",
    "            hd_histogram[h_d]+= gs_probs[i] * gs_probs[j]"
   ]
  },
  {
   "cell_type": "code",
   "execution_count": 25,
   "metadata": {},
   "outputs": [
    {
     "data": {
      "text/plain": [
       "array([0.19201081, 0.        , 0.65191084, 0.        , 0.09379864,\n",
       "       0.        , 0.00587824, 0.        , 0.        , 0.        ,\n",
       "       0.        , 0.        , 0.        ])"
      ]
     },
     "execution_count": 25,
     "metadata": {},
     "output_type": "execute_result"
    }
   ],
   "source": [
    "hd_histogram"
   ]
  },
  {
   "cell_type": "code",
   "execution_count": 26,
   "metadata": {},
   "outputs": [
    {
     "data": {
      "text/plain": [
       "0.9435985321"
      ]
     },
     "execution_count": 26,
     "metadata": {},
     "output_type": "execute_result"
    }
   ],
   "source": [
    "hd_histogram.sum()"
   ]
  },
  {
   "cell_type": "code",
   "execution_count": 2,
   "metadata": {},
   "outputs": [
    {
     "ename": "ValueError",
     "evalue": "operands could not be broadcast together with shapes (9,) (11,) ",
     "output_type": "error",
     "traceback": [
      "\u001b[0;31m---------------------------------------------------------------------------\u001b[0m",
      "\u001b[0;31mValueError\u001b[0m                                Traceback (most recent call last)",
      "Cell \u001b[0;32mIn[2], line 7\u001b[0m\n\u001b[1;32m      4\u001b[0m gs_list \u001b[38;5;241m=\u001b[39m [\u001b[38;5;241m395\u001b[39m, \u001b[38;5;241m451\u001b[39m, \u001b[38;5;241m1219\u001b[39m, \u001b[38;5;241m2507\u001b[39m, \u001b[38;5;241m2963\u001b[39m, \u001b[38;5;241m1483\u001b[39m, \u001b[38;5;241m2441\u001b[39m]\n\u001b[1;32m      5\u001b[0m gs_probs \u001b[38;5;241m=\u001b[39m [\u001b[38;5;241m0.21411\u001b[39m, \u001b[38;5;241m0.21977\u001b[39m, \u001b[38;5;241m0.05863\u001b[39m, \u001b[38;5;241m0.21597\u001b[39m, \u001b[38;5;241m0.0\u001b[39m, \u001b[38;5;241m0.21278\u001b[39m, \u001b[38;5;241m0.05013\u001b[39m]\n\u001b[0;32m----> 7\u001b[0m \u001b[38;5;28mprint\u001b[39m(\u001b[43moverlap_distribution_fair\u001b[49m\u001b[43m(\u001b[49m\u001b[43mgs_list\u001b[49m\u001b[43m,\u001b[49m\u001b[43mN\u001b[49m\u001b[43m)\u001b[49m)\n\u001b[1;32m      8\u001b[0m \u001b[38;5;28mprint\u001b[39m(\u001b[38;5;28msum\u001b[39m(overlap_distribution_fair(gs_list,N)))\n\u001b[1;32m      9\u001b[0m \u001b[38;5;28mprint\u001b[39m(overlap_distribution_weighted(gs_list,gs_probs, N))\n",
      "File \u001b[0;32m~/Desktop/physics/FairSampling/tfim_sk_infd/services/ground_state_service.py:84\u001b[0m, in \u001b[0;36moverlap_distribution_fair\u001b[0;34m(gs_list, N)\u001b[0m\n\u001b[1;32m     82\u001b[0m \u001b[38;5;28;01mfor\u001b[39;00m i \u001b[38;5;129;01min\u001b[39;00m \u001b[38;5;28mrange\u001b[39m(gs_size):\n\u001b[1;32m     83\u001b[0m     \u001b[38;5;28;01mfor\u001b[39;00m j \u001b[38;5;129;01min\u001b[39;00m \u001b[38;5;28mrange\u001b[39m(i, gs_size):\n\u001b[0;32m---> 84\u001b[0m         h_d \u001b[38;5;241m=\u001b[39m \u001b[43mbase_N_hamming_distance\u001b[49m\u001b[43m(\u001b[49m\u001b[43mgs_list\u001b[49m\u001b[43m[\u001b[49m\u001b[43mi\u001b[49m\u001b[43m]\u001b[49m\u001b[43m,\u001b[49m\u001b[43m \u001b[49m\u001b[43mgs_list\u001b[49m\u001b[43m[\u001b[49m\u001b[43mj\u001b[49m\u001b[43m]\u001b[49m\u001b[43m,\u001b[49m\u001b[43m \u001b[49m\u001b[43mN\u001b[49m\u001b[43m)\u001b[49m\n\u001b[1;32m     85\u001b[0m         overlap_dist[\u001b[38;5;241m-\u001b[39mh_d \u001b[38;5;241m-\u001b[39m \u001b[38;5;241m1\u001b[39m] \u001b[38;5;241m+\u001b[39m\u001b[38;5;241m=\u001b[39m (\u001b[38;5;241m1\u001b[39m \u001b[38;5;28;01mif\u001b[39;00m i \u001b[38;5;241m==\u001b[39m j \u001b[38;5;28;01melse\u001b[39;00m \u001b[38;5;241m2\u001b[39m) \u001b[38;5;241m/\u001b[39m (gs_size\u001b[38;5;241m*\u001b[39m\u001b[38;5;241m*\u001b[39m\u001b[38;5;241m2\u001b[39m)\n\u001b[1;32m     86\u001b[0m \u001b[38;5;28;01mreturn\u001b[39;00m overlap_dist\n",
      "File \u001b[0;32m~/Desktop/physics/FairSampling/tfim_sk_infd/services/ground_state_service.py:44\u001b[0m, in \u001b[0;36mbase_N_hamming_distance\u001b[0;34m(i, j, N)\u001b[0m\n\u001b[1;32m     42\u001b[0m arr_i \u001b[38;5;241m=\u001b[39m np\u001b[38;5;241m.\u001b[39marray([\u001b[38;5;28mint\u001b[39m(s) \u001b[38;5;28;01mfor\u001b[39;00m s \u001b[38;5;129;01min\u001b[39;00m \u001b[38;5;28mbin\u001b[39m(i)[\u001b[38;5;241m2\u001b[39m:]\u001b[38;5;241m.\u001b[39mzfill(N)])\n\u001b[1;32m     43\u001b[0m arr_j \u001b[38;5;241m=\u001b[39m np\u001b[38;5;241m.\u001b[39marray([\u001b[38;5;28mint\u001b[39m(s) \u001b[38;5;28;01mfor\u001b[39;00m s \u001b[38;5;129;01min\u001b[39;00m \u001b[38;5;28mbin\u001b[39m(j)[\u001b[38;5;241m2\u001b[39m:]\u001b[38;5;241m.\u001b[39mzfill(N)])\n\u001b[0;32m---> 44\u001b[0m \u001b[38;5;28;01mreturn\u001b[39;00m \u001b[38;5;28mint\u001b[39m(np\u001b[38;5;241m.\u001b[39msum(\u001b[43marr_i\u001b[49m\u001b[43m \u001b[49m\u001b[38;5;241;43m!=\u001b[39;49m\u001b[43m \u001b[49m\u001b[43marr_j\u001b[49m))\n",
      "\u001b[0;31mValueError\u001b[0m: operands could not be broadcast together with shapes (9,) (11,) "
     ]
    }
   ],
   "source": [
    "from tfim_sk_infd.services.ground_state_service import overlap_distribution_fair, overlap_distribution_weighted\n",
    "\n",
    "N = 8\n",
    "gs_list = [395, 451, 1219, 2507, 2963, 1483, 2441]\n",
    "gs_probs = [0.21411, 0.21977, 0.05863, 0.21597, 0.0, 0.21278, 0.05013]\n",
    "\n",
    "print(overlap_distribution_fair(gs_list,N))\n",
    "print(sum(overlap_distribution_fair(gs_list,N)))\n",
    "print(overlap_distribution_weighted(gs_list,gs_probs, N))\n",
    "print(sum(overlap_distribution_weighted(gs_list,gs_probs, N)))\n"
   ]
  },
  {
   "cell_type": "code",
   "execution_count": 30,
   "metadata": {},
   "outputs": [
    {
     "name": "stdout",
     "output_type": "stream",
     "text": [
      "0.5\n",
      "0.25\n"
     ]
    }
   ],
   "source": [
    "from tfim_sk_infd.services import ground_state_service\n",
    "import numpy as np\n",
    "\n",
    "N = 8\n",
    "gs = [9,30]\n",
    "\n",
    "bins = np.array([((2*i)/N) - 1 for i in range(N+1)])\n",
    "overlap_dist = ground_state_service.overlap_distribution_fair(gs, N)\n",
    "\n",
    "mean = np.sum(bins*overlap_dist)\n",
    "variance = np.sum(overlap_dist * (bins - mean) ** 2)\n",
    "\n",
    "print(mean)\n",
    "print(variance)"
   ]
  },
  {
   "cell_type": "code",
   "execution_count": 31,
   "metadata": {},
   "outputs": [
    {
     "data": {
      "text/plain": [
       "{'212_340': 2, '212_470': 2, '340_470': 2}"
      ]
     },
     "execution_count": 31,
     "metadata": {},
     "output_type": "execute_result"
    }
   ],
   "source": [
    "from tfim_sk_infd.services import ground_state_service\n",
    "N = 12\n",
    "gs_list = [212, 340, 470]\n",
    "\n",
    "h_d_dict = {}\n",
    "\n",
    "for i in range(len(gs_list)):\n",
    "    for j in range(i+1, len(gs_list)):\n",
    "        x = gs_list[i]\n",
    "        y = gs_list[j]\n",
    "        h_d_dict[f\"{x}_{y}\"] = ground_state_service.base_N_hamming_distance(x,y,N)\n",
    "\n",
    "h_d_dict\n",
    "\n"
   ]
  },
  {
   "cell_type": "code",
   "execution_count": 68,
   "metadata": {},
   "outputs": [
    {
     "name": "stdout",
     "output_type": "stream",
     "text": [
      "------\n",
      "0.1\n",
      "[0.49683465 0.49683465]\n",
      "0.9936692901055844\n",
      "------\n",
      "0.05\n",
      "[0.49921049 0.49921049]\n",
      "0.9984209716376728\n",
      "+++++++++++++++++++++++++\n",
      "------\n",
      "0.1\n",
      "[0.45583859 0.53783059]\n",
      "0.9936691768708635\n",
      "------\n",
      "0.05\n",
      "[0.45804474 0.54037622]\n",
      "0.9984209555396175\n",
      "+++++++++++++++++++++++++\n",
      "------\n",
      "0.1\n",
      "[0.1162232  0.20403991 0.3348821  0.1162232  0.20403991]\n",
      "0.97540830857282\n",
      "------\n",
      "0.05\n",
      "[0.11783242 0.2079024  0.34209439 0.11783242 0.2079024 ]\n",
      "0.9935640225519484\n",
      "+++++++++++++++++++++++++\n",
      "------\n",
      "0.1\n",
      "[0.22032272 0.54336332 0.22032272]\n",
      "0.9840087712887097\n",
      "------\n",
      "0.05\n",
      "[0.22247256 0.55094625 0.22247256]\n",
      "0.9958913677160331\n",
      "+++++++++++++++++++++++++\n",
      "------\n",
      "0.1\n",
      "[0.22032272 0.54336332 0.22032272]\n",
      "0.9840087716621786\n",
      "------\n",
      "0.05\n",
      "[0.22247256 0.55094625 0.22247256]\n",
      "0.995891365957721\n",
      "+++++++++++++++++++++++++\n",
      "------\n",
      "0.1\n",
      "[0.49564181 0.49564181]\n",
      "0.99128362813417\n",
      "------\n",
      "0.05\n",
      "[0.49891093 0.49891093]\n",
      "0.9978218538978142\n",
      "+++++++++++++++++++++++++\n",
      "------\n",
      "0.1\n",
      "[0.49350794 0.49350794]\n",
      "0.9870158750136575\n",
      "------\n",
      "0.05\n",
      "[0.49834266 0.49834266]\n",
      "0.9966853142525001\n",
      "+++++++++++++++++++++++++\n",
      "------\n",
      "0.1\n",
      "[0.34792879 0.34792879 0.28521513]\n",
      "0.981072713766978\n",
      "------\n",
      "0.05\n",
      "[0.35296056 0.35296056 0.289174  ]\n",
      "0.995095120066611\n",
      "+++++++++++++++++++++++++\n",
      "------\n",
      "0.1\n",
      "[0.41965939 0.56841123]\n",
      "0.9880706205515719\n",
      "------\n",
      "0.05\n",
      "[0.42339472 0.57355364]\n",
      "0.9969483549150588\n",
      "+++++++++++++++++++++++++\n",
      "------\n",
      "0.1\n",
      "[0.53783059 0.45583859]\n",
      "0.9936691773575335\n",
      "------\n",
      "0.05\n",
      "[0.54037622 0.45804474]\n",
      "0.9984209553577165\n",
      "+++++++++++++++++++++++++\n"
     ]
    }
   ],
   "source": [
    "import numpy as np\n",
    "\n",
    "from database.models import InstancesN8, InstancesN12\n",
    "from tfim_sk_infd.services import qutip_service\n",
    "from tfim_sk_infd.models.Jij import Jij\n",
    "from tfim_sk_infd.models.SKSpinGlass import SKSpinGlass\n",
    "import data_service\n",
    "from tqdm import tqdm\n",
    "from scipy import linalg\n",
    "from scipy.sparse import linalg as spla\n",
    "\n",
    "N = 8\n",
    "\n",
    "\n",
    "Instance = data_service.get_instance_class(N)\n",
    "\n",
    "\n",
    "with data_service.get_session() as session:\n",
    "\n",
    "    instances: list[InstancesN8 | InstancesN12] = (\n",
    "        session.query(Instance).where(Instance.degeneracy > 2).limit(10).all()\n",
    "    )\n",
    "\n",
    "    for instance in instances:\n",
    "\n",
    "        Jij_obj = Jij(np.array(instance.Jij_matrix))\n",
    "\n",
    "        SG = SKSpinGlass(Jij_obj)\n",
    "\n",
    "        # initial diag\n",
    "        h = 0.1\n",
    "        H = SG.hamiltonian_at_h(h)\n",
    "        E, v = spla.eigsh(H, k=instance.degeneracy + 1, which=\"SA\")\n",
    "\n",
    "        sort_order = np.argsort(E)\n",
    "        E = E[sort_order]\n",
    "        v = v[:, sort_order]\n",
    "        psi0 = v[:, 0]\n",
    "\n",
    "        min_e_gap = E[1] - E[0]\n",
    "        if min_e_gap < 1e-15:\n",
    "            print(f\"Diagonalization fail for seed {instance.seed} with min_e_gap {min_e_gap} at h = {h}\")\n",
    "            continue\n",
    "\n",
    "        fidelity = 0\n",
    "        while(fidelity < 0.99):\n",
    "            print(\"------\")\n",
    "            print(h)\n",
    "            print(2*psi0[instance.reduced_gs]**2)\n",
    "            print(2*sum(psi0[instance.reduced_gs]**2))\n",
    "            h /= 2\n",
    "            H = SG.hamiltonian_at_h(h)\n",
    "            E, v = spla.eigsh(H, k=instance.degeneracy + 1, which=\"SA\", v0 = psi0)\n",
    "\n",
    "            sort_order = np.argsort(E)\n",
    "            E = E[sort_order]\n",
    "            v = v[:, sort_order]\n",
    "\n",
    "            old_psi0 = psi0\n",
    "            psi0 = v[:, 0]\n",
    "            \n",
    "            min_e_gap = E[1] - E[0]\n",
    "            if min_e_gap < 1e-15:\n",
    "                print(f\"Diagonalization fail for seed {instance.seed} with min_e_gap {min_e_gap} at h = {h}\")\n",
    "                break\n",
    "\n",
    "\n",
    "            fidelity = np.abs(np.inner(psi0,old_psi0))\n",
    "            \n",
    "            \n",
    "\n",
    "\n",
    "        print(\"------\")\n",
    "        print(h)\n",
    "        print(2*psi0[instance.reduced_gs]**2)\n",
    "        print(2*sum(psi0[instance.reduced_gs]**2))\n",
    "        print(\"+++++++++++++++++++++++++\")\n",
    "\n",
    "    session.commit()\n",
    "\n",
    "    session.close()\n"
   ]
  },
  {
   "cell_type": "code",
   "execution_count": 56,
   "metadata": {},
   "outputs": [
    {
     "data": {
      "text/plain": [
       "0.9970200238510123"
      ]
     },
     "execution_count": 56,
     "metadata": {},
     "output_type": "execute_result"
    }
   ],
   "source": [
    "abs(np.inner(psi0,old_psi0))"
   ]
  },
  {
   "cell_type": "code",
   "execution_count": 44,
   "metadata": {},
   "outputs": [
    {
     "data": {
      "text/plain": [
       "0.5"
      ]
     },
     "execution_count": 44,
     "metadata": {},
     "output_type": "execute_result"
    }
   ],
   "source": [
    "a = 1\n",
    "a /= 2\n",
    "a"
   ]
  },
  {
   "cell_type": "code",
   "execution_count": 109,
   "metadata": {},
   "outputs": [
    {
     "name": "stdout",
     "output_type": "stream",
     "text": [
      "0.4\n",
      "0.26666666666666666\n",
      "0.17777777777777778\n",
      "0.11851851851851852\n",
      "0.07901234567901234\n",
      "Diagonalization fail for seed 26, min_e_gap 1.0658141036401503e-13, h 0.07901234567901234, fidelity 0.8936763717000806\n",
      "orgiginal error:\n",
      "Diagonalization fail for seed 26 with min_e_gap 1.0658141036401503e-13 at h = 0.07901234567901234\n"
     ]
    }
   ],
   "source": [
    "import numpy as np\n",
    "\n",
    "from database.models import InstancesN8, InstancesN12\n",
    "from tfim_sk_infd.models.Jij import Jij\n",
    "from tfim_sk_infd.models.SKSpinGlass import SKSpinGlass\n",
    "import data_service\n",
    "from scipy.sparse import linalg as spla\n",
    "\n",
    "N = 12\n",
    "\n",
    "\n",
    "Instance = data_service.get_instance_class(N)\n",
    "\n",
    "\n",
    "with data_service.get_session() as session:\n",
    "\n",
    "    instances: list[InstancesN8 | InstancesN12] = (\n",
    "        session.query(Instance).where(Instance.degeneracy > 2).where(Instance.seed == 26).all()\n",
    "    )\n",
    "    # hx = []\n",
    "    # min_e_list = []\n",
    "    # fid_list = []\n",
    "    for instance in instances:\n",
    "\n",
    "        try:\n",
    "\n",
    "            Jij_obj = Jij(np.array(instance.Jij_matrix))\n",
    "\n",
    "            SG = SKSpinGlass(Jij_obj)\n",
    "\n",
    "            # initial diag\n",
    "            h = 0.4\n",
    "            H = SG.hamiltonian_at_h(h)\n",
    "            E, v = spla.eigsh(H, k=2, which=\"SA\")\n",
    "\n",
    "            sort_order = np.argsort(E)\n",
    "            E = E[sort_order]\n",
    "            v = v[:, sort_order]\n",
    "            psi0 = v[:, 0]\n",
    "\n",
    "            min_e_gap = E[1] - E[0]\n",
    "            fidelity = 0\n",
    "            if min_e_gap < 1e-12:\n",
    "                raise Exception(\n",
    "                    f\"Diagonalization fail for seed {instance.seed} with min_e_gap {min_e_gap} at h = {h}\"\n",
    "                )\n",
    "            \n",
    "            print(h)\n",
    "            \n",
    "            # hx.append(h)\n",
    "            # min_e_list.append(min_e_gap)\n",
    "            \n",
    "            # fid_list.append(fidelity)\n",
    "            while fidelity < 0.99999:\n",
    "                h /= 1.5\n",
    "                print(h)\n",
    "                H = SG.hamiltonian_at_h(h)\n",
    "                # E, v = spla.eigsh(H, k=2, which=\"SA\", v0=psi0)\n",
    "                E, v = spla.eigsh(H, k=2, which=\"SA\")\n",
    "\n",
    "                sort_order = np.argsort(E)\n",
    "                E = E[sort_order]\n",
    "                v = v[:, sort_order]\n",
    "\n",
    "                old_psi0 = psi0\n",
    "                psi0 = v[:, 0]\n",
    "\n",
    "                fidelity = np.abs(np.vdot(psi0, old_psi0))\n",
    "\n",
    "                min_e_gap = E[1] - E[0]\n",
    "                if min_e_gap < 1e-12:\n",
    "                    raise Exception(\n",
    "                        f\"Diagonalization fail for seed {instance.seed} with min_e_gap {min_e_gap} at h = {h}\"\n",
    "                    )\n",
    "\n",
    "                \n",
    "\n",
    "            gs_probs = psi0[instance.ground_states]\n",
    "            print(gs_probs)\n",
    "            print(h)\n",
    "            print(min_e_gap)\n",
    "            print(fidelity)\n",
    "\n",
    "        except Exception as e:\n",
    "            print(\n",
    "                f\"Diagonalization fail for seed {instance.seed}, min_e_gap {min_e_gap}, h {h}, fidelity {fidelity}\\norgiginal error:\\n{e}\"\n",
    "            )\n",
    "\n",
    "    session.close()"
   ]
  },
  {
   "cell_type": "code",
   "execution_count": 111,
   "metadata": {},
   "outputs": [
    {
     "name": "stdout",
     "output_type": "stream",
     "text": [
      "[-0.36348421 -0.36925948 -0.46697691 -0.46687762 -0.36918098 -0.36340693]\n",
      "0.9728746725424222\n"
     ]
    }
   ],
   "source": [
    "# Graph min e gap vs hx\n",
    "classical_gs = [212, 340, 470, 3625, 3755, 3883]\n",
    "print(old_psi0[classical_gs])\n",
    "print(np.sum(old_psi0[classical_gs]**2))"
   ]
  },
  {
   "cell_type": "code",
   "execution_count": null,
   "metadata": {},
   "outputs": [],
   "source": []
  }
 ],
 "metadata": {
  "kernelspec": {
   "display_name": "Python 3",
   "language": "python",
   "name": "python3"
  },
  "language_info": {
   "codemirror_mode": {
    "name": "ipython",
    "version": 3
   },
   "file_extension": ".py",
   "mimetype": "text/x-python",
   "name": "python",
   "nbconvert_exporter": "python",
   "pygments_lexer": "ipython3",
   "version": "3.12.2"
  }
 },
 "nbformat": 4,
 "nbformat_minor": 2
}
