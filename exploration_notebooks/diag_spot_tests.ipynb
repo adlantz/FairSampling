{
 "cells": [
  {
   "cell_type": "code",
   "execution_count": 2,
   "metadata": {},
   "outputs": [],
   "source": [
    "import numpy as np\n",
    "\n",
    "from database.models import InstancesN8, InstancesN12\n",
    "from tfim_sk_infd.models.Jij import Jij\n",
    "from tfim_sk_infd.models.SKSpinGlass import SKSpinGlass\n",
    "import data_service\n",
    "from scipy.sparse import linalg as spla\n",
    "from scipy import sparse\n",
    "\n",
    "import time\n",
    "\n",
    "\n"
   ]
  },
  {
   "cell_type": "code",
   "execution_count": 14,
   "metadata": {},
   "outputs": [
    {
     "name": "stdout",
     "output_type": "stream",
     "text": [
      "sparse 1q time 0.007184028625488281\n",
      "sparse complete time 0.029005050659179688\n",
      "sparse 1q time 0.005700111389160156\n",
      "sparse complete time 0.010892868041992188\n",
      "sparse 1q time 0.003459930419921875\n",
      "sparse complete time 0.004481077194213867\n"
     ]
    }
   ],
   "source": [
    "# iterate through random seeds\n",
    "# Look at 3 low h values 1e-3, 1e-4, 1e-5\n",
    "# Look at sparse 1Q and sparse complete\n",
    "# Get fidelity with previous\n",
    "# Get fidelity with other method\n",
    "# Get sum of prob amplitudes for both\n",
    "\n",
    "N = 12\n",
    "M = 2**N\n",
    "\n",
    "# Spin inversion operator\n",
    "U = np.zeros((M, M))\n",
    "for i in range(M):\n",
    "    U[i][i] = 1 if i<(M)//2 else -1\n",
    "    U[i][-i-1] = 1\n",
    "U /= np.sqrt(2)\n",
    "U = sparse.coo_matrix(U)\n",
    "\n",
    "\n",
    "\n",
    "Instance = data_service.get_instance_class(N)\n",
    "\n",
    "seeds = [26]\n",
    "steps = 3\n",
    "\n",
    "with data_service.get_session() as session:\n",
    "\n",
    "    instances: list[InstancesN8 | InstancesN12] = (\n",
    "        session.query(Instance).where(Instance.seed.in_(seeds)).all()\n",
    "    )\n",
    "\n",
    "    out_obj = {}\n",
    "\n",
    "    for instance in instances:\n",
    "\n",
    "\n",
    "\n",
    "        deg = len(instance.ground_states)\n",
    "\n",
    "        sparse_fidelities_1q = np.zeros(steps)\n",
    "        sparse_classical_gs_probs_1q = np.zeros(steps)\n",
    "        \n",
    "        sparse_fidelities_comp = np.zeros(steps)\n",
    "        sparse_classical_gs_probs_comp = np.zeros(steps)\n",
    "\n",
    "        hx = np.zeros(steps)\n",
    "        comp_vs_1q_fids = np.zeros(steps)\n",
    "\n",
    "\n",
    "\n",
    "        # Initialize spin glass\n",
    "        Jij_obj = Jij(np.array(instance.Jij_matrix))\n",
    "        SG = SKSpinGlass(Jij_obj)\n",
    "\n",
    "        h = 1e-1\n",
    "        sparse_psi0_1q = None\n",
    "        sparse_psi0_comp = None\n",
    "\n",
    "        for i in range(steps):\n",
    "\n",
    "            # Calculate hamiltonian\n",
    "            h /= 10\n",
    "            H = SG.hamiltonian_at_h(h)\n",
    "\n",
    "            \n",
    "\n",
    "            ## SPARSE 1Q\n",
    "\n",
    "            # UHU = np.dot(U,np.dot(H, U.T))\n",
    "            UHU = U@H@U.T\n",
    "            UHU1q = UHU[0:M//2, 0:M//2]\n",
    "            start = time.time()\n",
    "            E1q, v1q = spla.eigsh(UHU1q, k=1, which=\"SA\", v0=sparse_psi0_1q)\n",
    "            print(\"sparse 1q time\", time.time()-start)\n",
    "            sort_order = np.argsort(E1q)\n",
    "            E1q = E1q[sort_order]\n",
    "            v1q = v1q[:, sort_order]\n",
    "            old_sparse_psi0_1q = sparse_psi0_1q\n",
    "            sparse_psi0_1q = v1q[:, 0]\n",
    "            sparse_psi0_1q_complete = U@(np.array(list(sparse_psi0_1q) + [0 for _ in range(M//2)]))\n",
    "            \n",
    "\n",
    "            sparse_fidelities_1q[i] = np.abs(np.vdot(sparse_psi0_1q, old_sparse_psi0_1q)) if old_sparse_psi0_1q is not None else 1\n",
    "            sparse_classical_gs_probs_1q[i] = np.sum(sparse_psi0_1q_complete[instance.ground_states]**2)\n",
    "\n",
    "\n",
    "            # UHU4q = UHU[M//2:, M//2:]\n",
    "            # start = time.time()\n",
    "            # E4q, v4q = spla.eigsh(UHU4q, k=1, which=\"SA\", v0=sparse_psi0_4q)\n",
    "            # print(\"sparse 4q time\", time.time()-start)\n",
    "            # sort_order = np.argsort(E4q)\n",
    "            # E4q = E4q[sort_order]\n",
    "            # v4q = v4q[:, sort_order]\n",
    "            # old_sparse_psi0_4q = sparse_psi0_4q\n",
    "            # sparse_psi0_4q = v4q[:, 0]\n",
    "            # sparse_psi0_4q_complete = U@(np.array(list(sparse_psi0_4q) + [0 for _ in range(M//2)]))\n",
    "            \n",
    "\n",
    "            # sparse_fidelities_4q[i] = np.abs(np.vdot(sparse_psi0_4q, old_sparse_psi0_4q)) if old_sparse_psi0_4q is not None else 1\n",
    "            # sparse_classical_gs_probs_4q[i] = np.sum(sparse_psi0_4q_complete[instance.ground_states]**2)\n",
    "\n",
    "\n",
    "            ## SPARSE COMPLETE\n",
    "            start = time.time()\n",
    "            Ecomp, vcomp = spla.eigsh(H, k=1, which=\"SA\", v0=sparse_psi0_comp)\n",
    "            print(\"sparse complete time\", time.time()-start)\n",
    "            sort_order = np.argsort(Ecomp)\n",
    "            Ecomp = Ecomp[sort_order]\n",
    "            vcomp = vcomp[:, sort_order]\n",
    "            old_sparse_psi0_comp = sparse_psi0_comp\n",
    "            sparse_psi0_comp = vcomp[:, 0]\n",
    "            \n",
    "\n",
    "            sparse_fidelities_comp[i] = np.abs(np.vdot(sparse_psi0_comp, old_sparse_psi0_comp)) if old_sparse_psi0_comp is not None else 1\n",
    "            sparse_classical_gs_probs_comp[i] = np.sum(sparse_psi0_comp[instance.ground_states]**2)\n",
    "\n",
    "\n",
    "            \n",
    "            hx[i] = h\n",
    "            comp_vs_1q_fids[i] = np.abs(np.vdot(sparse_psi0_1q_complete, sparse_psi0_comp))\n",
    "            \n",
    "        out_obj[instance.seed] = {\n",
    "            \"hx\": hx,\n",
    "            \"sparse_fidelities_1q\": sparse_fidelities_1q, \n",
    "            \"sparse_classical_gs_probs_1q\": sparse_classical_gs_probs_1q, \n",
    "            \"sparse_fidelities_comp\": sparse_fidelities_comp, \n",
    "            \"sparse_classical_gs_probs_comp\": sparse_classical_gs_probs_comp, \n",
    "            \"comp_vs_1q_fids\": comp_vs_1q_fids, \n",
    "        }\n",
    "                \n",
    "\n",
    "    session.close()"
   ]
  },
  {
   "cell_type": "code",
   "execution_count": 6,
   "metadata": {},
   "outputs": [
    {
     "data": {
      "text/plain": [
       "matrix([[1.30508683e-11, 3.18164092e-14, 9.87520823e-14, ...,\n",
       "         9.87520823e-14, 3.18164092e-14, 1.30508683e-11]])"
      ]
     },
     "execution_count": 6,
     "metadata": {},
     "output_type": "execute_result"
    }
   ],
   "source": [
    "\n",
    "sparse_psi0_1q_complete\n"
   ]
  },
  {
   "cell_type": "code",
   "execution_count": 18,
   "metadata": {},
   "outputs": [
    {
     "data": {
      "text/plain": [
       "4"
      ]
     },
     "execution_count": 18,
     "metadata": {},
     "output_type": "execute_result"
    }
   ],
   "source": [
    "(deg//2) + 1"
   ]
  },
  {
   "cell_type": "code",
   "execution_count": 39,
   "metadata": {},
   "outputs": [],
   "source": [
    "low_fidelity_comp = 0\n",
    "low_fidelity_1q = 0\n",
    "for i in range(100):\n",
    "    low_fidelity_comp += 1 if sum(out_obj[i][\"sparse_fidelities_comp\"]) < 2.9 else 0\n",
    "    low_fidelity_1q += 1 if sum(out_obj[i][\"sparse_fidelities_1q\"]) < 2.9 else 0\n"
   ]
  },
  {
   "cell_type": "code",
   "execution_count": 40,
   "metadata": {},
   "outputs": [
    {
     "name": "stdout",
     "output_type": "stream",
     "text": [
      "37\n",
      "0\n"
     ]
    }
   ],
   "source": [
    "print(low_fidelity_comp)\n",
    "print(low_fidelity_1q)"
   ]
  },
  {
   "cell_type": "code",
   "execution_count": 19,
   "metadata": {},
   "outputs": [
    {
     "name": "stdout",
     "output_type": "stream",
     "text": [
      "[0.70710678 0.         0.         0.70710678]\n",
      "[0.         0.70710678 0.70710678 0.        ]\n",
      "[ 0.          0.70710678 -0.70710678  0.        ]\n",
      "[ 0.70710678  0.          0.         -0.70710678]\n"
     ]
    }
   ],
   "source": [
    "N = 2\n",
    "M = 2**N\n",
    "\n",
    "U = np.zeros((M, M))\n",
    "for i in range(M):\n",
    "    U[i][i] = 1 if i<(M)//2 else -1\n",
    "    U[i][-i-1] = 1\n",
    "U /= np.sqrt(2)\n",
    "\n",
    "for row in U:\n",
    "    print(row)"
   ]
  },
  {
   "cell_type": "code",
   "execution_count": 20,
   "metadata": {},
   "outputs": [],
   "source": [
    "# Eigen energy gap E1 - E0\n",
    "# Fidelity between h values\n",
    "# total classical gs prob"
   ]
  },
  {
   "cell_type": "code",
   "execution_count": 22,
   "metadata": {},
   "outputs": [
    {
     "name": "stdout",
     "output_type": "stream",
     "text": [
      "0.001332998275756836\n"
     ]
    }
   ],
   "source": [
    "start = time.time()\n",
    "U = np.zeros((M, M))\n",
    "for i in range(M):\n",
    "    U[i][i] = 1 if i<(M)//2 else -1\n",
    "    U[i][-i-1] = 1\n",
    "U /= np.sqrt(2)\n",
    "U = sparse.coo_matrix(U)\n",
    "print(time.time() - start)"
   ]
  },
  {
   "cell_type": "code",
   "execution_count": 23,
   "metadata": {},
   "outputs": [
    {
     "ename": "TypeError",
     "evalue": "'coo_matrix' object is not subscriptable",
     "output_type": "error",
     "traceback": [
      "\u001b[0;31m---------------------------------------------------------------------------\u001b[0m",
      "\u001b[0;31mTypeError\u001b[0m                                 Traceback (most recent call last)",
      "Cell \u001b[0;32mIn[23], line 4\u001b[0m\n\u001b[1;32m      2\u001b[0m U \u001b[38;5;241m=\u001b[39m sparse\u001b[38;5;241m.\u001b[39mcoo_matrix((M,M))\n\u001b[1;32m      3\u001b[0m \u001b[38;5;28;01mfor\u001b[39;00m i \u001b[38;5;129;01min\u001b[39;00m \u001b[38;5;28mrange\u001b[39m(M):\n\u001b[0;32m----> 4\u001b[0m     \u001b[43mU\u001b[49m\u001b[43m[\u001b[49m\u001b[43mi\u001b[49m\u001b[43m]\u001b[49m[i] \u001b[38;5;241m=\u001b[39m \u001b[38;5;241m1\u001b[39m \u001b[38;5;28;01mif\u001b[39;00m i\u001b[38;5;241m<\u001b[39m(M)\u001b[38;5;241m/\u001b[39m\u001b[38;5;241m/\u001b[39m\u001b[38;5;241m2\u001b[39m \u001b[38;5;28;01melse\u001b[39;00m \u001b[38;5;241m-\u001b[39m\u001b[38;5;241m1\u001b[39m\n\u001b[1;32m      5\u001b[0m     U[i][\u001b[38;5;241m-\u001b[39mi\u001b[38;5;241m-\u001b[39m\u001b[38;5;241m1\u001b[39m] \u001b[38;5;241m=\u001b[39m \u001b[38;5;241m1\u001b[39m\n\u001b[1;32m      6\u001b[0m U \u001b[38;5;241m/\u001b[39m\u001b[38;5;241m=\u001b[39m np\u001b[38;5;241m.\u001b[39msqrt(\u001b[38;5;241m2\u001b[39m)\n",
      "\u001b[0;31mTypeError\u001b[0m: 'coo_matrix' object is not subscriptable"
     ]
    }
   ],
   "source": [
    "start = time.time()\n",
    "U = sparse.coo_matrix((M,M))\n",
    "for i in range(M):\n",
    "    U[i][i] = 1 if i<(M)//2 else -1\n",
    "    U[i][-i-1] = 1\n",
    "U /= np.sqrt(2)\n",
    "print(time.time() - start)"
   ]
  },
  {
   "cell_type": "code",
   "execution_count": null,
   "metadata": {},
   "outputs": [],
   "source": []
  }
 ],
 "metadata": {
  "kernelspec": {
   "display_name": "Python 3",
   "language": "python",
   "name": "python3"
  },
  "language_info": {
   "codemirror_mode": {
    "name": "ipython",
    "version": 3
   },
   "file_extension": ".py",
   "mimetype": "text/x-python",
   "name": "python",
   "nbconvert_exporter": "python",
   "pygments_lexer": "ipython3",
   "version": "3.12.3"
  }
 },
 "nbformat": 4,
 "nbformat_minor": 2
}
