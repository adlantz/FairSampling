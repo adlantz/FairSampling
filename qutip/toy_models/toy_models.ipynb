{
 "cells": [
  {
   "cell_type": "code",
   "execution_count": 1,
   "metadata": {},
   "outputs": [],
   "source": [
    "\n",
    "import matplotlib.pyplot as plt\n",
    "import numpy as np\n",
    "from math import pi\n",
    "     \n",
    "\n",
    "from qutip import *\n",
    "from scipy import *"
   ]
  },
  {
   "cell_type": "code",
   "execution_count": 2,
   "metadata": {},
   "outputs": [],
   "source": [
    "toy_models = {\n",
    "            \"1\":\n",
    "               {\n",
    "                   \"j_map\" : [[0,1,1,-1,0],[1,0,1,0,-1],[1,1,0,1,1],[-1,0,1,0,1],[0,-1,1,1,0]],\n",
    "                   \"gs_indeces\": [  {\"i\":0, \"suppressed\": True},\n",
    "                                    {\"i\":3, \"suppressed\": False},\n",
    "                                    {\"i\":7, \"suppressed\": False}]\n",
    "                   },\n",
    "            \"2\": {\n",
    "                    \"j_map\" : [[0,2,1,2,1],[2,0,-2,-1,1],[1,-2,0,1,2],[2,-1,1,0,-2],[1,1,2,-2,0]],\n",
    "                    \"gs_indeces\": [{\"i\":0, \"suppressed\": False},\n",
    "                                    {\"i\":2, \"suppressed\": False},\n",
    "                                    {\"i\":5, \"suppressed\": True},\n",
    "                                    {\"i\":6, \"suppressed\": False},\n",
    "                                    {\"i\":8, \"suppressed\": False},\n",
    "                                    {\"i\":9, \"suppressed\": False}]\n",
    "                },\n",
    "            \"3\": {\n",
    "                    \"j_map\" : [[0,0,1,0,0,0],[0,0,0,1,0,0],[1,0,0,-1,1,-1],[0,1,-1,0,1,-1],[0,0,1,1,0,1], [0,0,-1,-1,1,0]],\n",
    "                    \"gs_indeces\": [{\"i\":1, \"suppressed\": True},\n",
    "                                    {\"i\":20, \"suppressed\": False},\n",
    "                                    {\"i\":23, \"suppressed\": False}]\n",
    "                },\n",
    "\n",
    "            \"4\": {\n",
    "                    \"j_map\" : [[0,1,0,0],[0,0,-1,-1],[0,-1,0,-1],[0,-1,-1,0]],\n",
    "                    \"gs_indeces\": [{\"i\":1, \"suppressed\": True},\n",
    "                                    {\"i\":2, \"suppressed\": True},\n",
    "                                    {\"i\":3, \"suppressed\": False}]\n",
    "                },\n",
    "\n",
    "            \n",
    "            \n",
    "            }\n",
    "\n",
    "model = toy_models[\"4\"]\n",
    "j_map = model[\"j_map\"]\n",
    "gs_indeces = model[\"gs_indeces\"]\n",
    "N = len(j_map[0])"
   ]
  },
  {
   "cell_type": "code",
   "execution_count": 3,
   "metadata": {},
   "outputs": [
    {
     "name": "stdout",
     "output_type": "stream",
     "text": [
      "Quantum object: dims = [[2, 2, 2, 2], [2, 2, 2, 2]], shape = (16, 16), type = oper, isherm = True\n",
      "Qobj data =\n",
      "[[-2.  0.  0.  0.  0.  0.  0.  0.  0.  0.  0.  0.  0.  0.  0.  0.]\n",
      " [ 0.  2.  0.  0.  0.  0.  0.  0.  0.  0.  0.  0.  0.  0.  0.  0.]\n",
      " [ 0.  0.  2.  0.  0.  0.  0.  0.  0.  0.  0.  0.  0.  0.  0.  0.]\n",
      " [ 0.  0.  0.  2.  0.  0.  0.  0.  0.  0.  0.  0.  0.  0.  0.  0.]\n",
      " [ 0.  0.  0.  0.  0.  0.  0.  0.  0.  0.  0.  0.  0.  0.  0.  0.]\n",
      " [ 0.  0.  0.  0.  0.  0.  0.  0.  0.  0.  0.  0.  0.  0.  0.  0.]\n",
      " [ 0.  0.  0.  0.  0.  0.  0.  0.  0.  0.  0.  0.  0.  0.  0.  0.]\n",
      " [ 0.  0.  0.  0.  0.  0.  0. -4.  0.  0.  0.  0.  0.  0.  0.  0.]\n",
      " [ 0.  0.  0.  0.  0.  0.  0.  0. -4.  0.  0.  0.  0.  0.  0.  0.]\n",
      " [ 0.  0.  0.  0.  0.  0.  0.  0.  0.  0.  0.  0.  0.  0.  0.  0.]\n",
      " [ 0.  0.  0.  0.  0.  0.  0.  0.  0.  0.  0.  0.  0.  0.  0.  0.]\n",
      " [ 0.  0.  0.  0.  0.  0.  0.  0.  0.  0.  0.  0.  0.  0.  0.  0.]\n",
      " [ 0.  0.  0.  0.  0.  0.  0.  0.  0.  0.  0.  0.  2.  0.  0.  0.]\n",
      " [ 0.  0.  0.  0.  0.  0.  0.  0.  0.  0.  0.  0.  0.  2.  0.  0.]\n",
      " [ 0.  0.  0.  0.  0.  0.  0.  0.  0.  0.  0.  0.  0.  0.  2.  0.]\n",
      " [ 0.  0.  0.  0.  0.  0.  0.  0.  0.  0.  0.  0.  0.  0.  0. -2.]]\n",
      "[-2.  2.  2.  2.  0.  0.  0. -4. -4.  0.  0.  0.  2.  2.  2. -2.]\n"
     ]
    }
   ],
   "source": [
    "\n",
    "\n",
    "si = qeye(2)\n",
    "sz = sigmaz()\n",
    "\n",
    "\n",
    "# Problem Hamiltonian\n",
    "# Hp = -sum(Jij sigma_i_z sigma_j_z)\n",
    "\n",
    "\n",
    "Hp = 0\n",
    "for i in range(len(j_map)):\n",
    "    for j in range(i,len(j_map[i])):\n",
    "\n",
    "        sigma_i = [si if k != i else sz for k in range(N) ]\n",
    "        sigma_j = [si if l != j else sz for l in range(N) ]\n",
    "\n",
    "        Hp += j_map[i][j] * tensor(sigma_i) * tensor(sigma_j)   \n",
    "\n",
    "\n",
    "print(Hp)\n",
    "print(Hp.diag())"
   ]
  },
  {
   "cell_type": "code",
   "execution_count": 4,
   "metadata": {},
   "outputs": [
    {
     "data": {
      "text/latex": [
       "Quantum object: dims = [[2, 2, 2, 2], [2, 2, 2, 2]], shape = (16, 16), type = oper, isherm = True $ \\\\ \\left(\\begin{matrix}0.0 & 1.0 & 1.0 & 0.0 & 1.0 & \\cdots & 0.0 & 0.0 & 0.0 & 0.0 & 0.0\\\\1.0 & 0.0 & 0.0 & 1.0 & 0.0 & \\cdots & 0.0 & 0.0 & 0.0 & 0.0 & 0.0\\\\1.0 & 0.0 & 0.0 & 1.0 & 0.0 & \\cdots & 0.0 & 0.0 & 0.0 & 0.0 & 0.0\\\\0.0 & 1.0 & 1.0 & 0.0 & 0.0 & \\cdots & 1.0 & 0.0 & 0.0 & 0.0 & 0.0\\\\1.0 & 0.0 & 0.0 & 0.0 & 0.0 & \\cdots & 0.0 & 1.0 & 0.0 & 0.0 & 0.0\\\\\\vdots & \\vdots & \\vdots & \\vdots & \\vdots & \\ddots & \\vdots & \\vdots & \\vdots & \\vdots & \\vdots\\\\0.0 & 0.0 & 0.0 & 1.0 & 0.0 & \\cdots & 0.0 & 0.0 & 0.0 & 0.0 & 1.0\\\\0.0 & 0.0 & 0.0 & 0.0 & 1.0 & \\cdots & 0.0 & 0.0 & 1.0 & 1.0 & 0.0\\\\0.0 & 0.0 & 0.0 & 0.0 & 0.0 & \\cdots & 0.0 & 1.0 & 0.0 & 0.0 & 1.0\\\\0.0 & 0.0 & 0.0 & 0.0 & 0.0 & \\cdots & 0.0 & 1.0 & 0.0 & 0.0 & 1.0\\\\0.0 & 0.0 & 0.0 & 0.0 & 0.0 & \\cdots & 1.0 & 0.0 & 1.0 & 1.0 & 0.0\\\\\\end{matrix}\\right)$"
      ],
      "text/plain": [
       "Quantum object: dims = [[2, 2, 2, 2], [2, 2, 2, 2]], shape = (16, 16), type = oper, isherm = True\n",
       "Qobj data =\n",
       "[[0. 1. 1. 0. 1. 0. 0. 0. 1. 0. 0. 0. 0. 0. 0. 0.]\n",
       " [1. 0. 0. 1. 0. 1. 0. 0. 0. 1. 0. 0. 0. 0. 0. 0.]\n",
       " [1. 0. 0. 1. 0. 0. 1. 0. 0. 0. 1. 0. 0. 0. 0. 0.]\n",
       " [0. 1. 1. 0. 0. 0. 0. 1. 0. 0. 0. 1. 0. 0. 0. 0.]\n",
       " [1. 0. 0. 0. 0. 1. 1. 0. 0. 0. 0. 0. 1. 0. 0. 0.]\n",
       " [0. 1. 0. 0. 1. 0. 0. 1. 0. 0. 0. 0. 0. 1. 0. 0.]\n",
       " [0. 0. 1. 0. 1. 0. 0. 1. 0. 0. 0. 0. 0. 0. 1. 0.]\n",
       " [0. 0. 0. 1. 0. 1. 1. 0. 0. 0. 0. 0. 0. 0. 0. 1.]\n",
       " [1. 0. 0. 0. 0. 0. 0. 0. 0. 1. 1. 0. 1. 0. 0. 0.]\n",
       " [0. 1. 0. 0. 0. 0. 0. 0. 1. 0. 0. 1. 0. 1. 0. 0.]\n",
       " [0. 0. 1. 0. 0. 0. 0. 0. 1. 0. 0. 1. 0. 0. 1. 0.]\n",
       " [0. 0. 0. 1. 0. 0. 0. 0. 0. 1. 1. 0. 0. 0. 0. 1.]\n",
       " [0. 0. 0. 0. 1. 0. 0. 0. 1. 0. 0. 0. 0. 1. 1. 0.]\n",
       " [0. 0. 0. 0. 0. 1. 0. 0. 0. 1. 0. 0. 1. 0. 0. 1.]\n",
       " [0. 0. 0. 0. 0. 0. 1. 0. 0. 0. 1. 0. 1. 0. 0. 1.]\n",
       " [0. 0. 0. 0. 0. 0. 0. 1. 0. 0. 0. 1. 0. 1. 1. 0.]]"
      ]
     },
     "execution_count": 4,
     "metadata": {},
     "output_type": "execute_result"
    }
   ],
   "source": [
    "# transverse field hamiltonian\n",
    "\n",
    "si = qeye(2)\n",
    "sx = sigmax()\n",
    "\n",
    "Ht = 0\n",
    "for i in range(N):\n",
    "    sigma_x = [si if k != i else sx for k in range(N)]\n",
    "    Ht += tensor(sigma_x)\n",
    "\n",
    "Ht"
   ]
  },
  {
   "cell_type": "code",
   "execution_count": 5,
   "metadata": {},
   "outputs": [],
   "source": [
    "# Iterate through annealing times\n",
    "\n",
    "gs_probs = [[] for i in range(len(gs_indeces))]\n",
    "total_prob = []\n",
    "\n",
    "for log_T in np.arange(-1,4,0.1):\n",
    "\n",
    "    taulist = np.linspace(0, (10**log_T), 1000)\n",
    "\n",
    "    # Initialize in equal superposition\n",
    "    psi_list = [(1/np.sqrt(2))*(basis(2,0) + basis(2,1)) for n in range(N)]\n",
    "    psi0 = tensor(psi_list)\n",
    "\n",
    "\n",
    "    # the time-dependent hamiltonian in list-function format\n",
    "    args = {\"t_max\": max(taulist)}\n",
    "    h_t = [\n",
    "        [-Ht, lambda t, args: (args[\"t_max\"] - t) / args[\"t_max\"]],\n",
    "        [-Hp, lambda t, args: t / args[\"t_max\"]],\n",
    "    ]\n",
    "\n",
    "    # transform Hamiltonian to QobjEvo\n",
    "    h_t = QobjEvo(h_t, args=args)\n",
    "\n",
    "    res = sesolve(h_t, psi0, taulist, [], args)\n",
    "    final_state = [(x.real**2 + x.imag**2)[0] for x in  res.states[-1].full()]\n",
    "    t_p = 0\n",
    "    for i, gs_info in enumerate(gs_indeces):\n",
    "        gs_probs[i].append(2*final_state[gs_info[\"i\"]])\n",
    "        t_p += 2*final_state[gs_info[\"i\"]]\n",
    "    total_prob.append(t_p)\n"
   ]
  },
  {
   "cell_type": "code",
   "execution_count": 6,
   "metadata": {},
   "outputs": [
    {
     "data": {
      "image/png": "[encoded data removed]",
      "text/plain": [
       "<Figure size 640x480 with 1 Axes>"
      ]
     },
     "metadata": {},
     "output_type": "display_data"
    }
   ],
   "source": [
    "unicode_map = {\"0\": \"\\u2191\", \"1\": \"\\u2193\"}\n",
    "\n",
    "plt.plot([i for i in np.arange(-1,4,0.1)], total_prob, color= \"black\", linestyle='--', label = \"Total Prob\")\n",
    "\n",
    "for i,gs in enumerate(gs_indeces):\n",
    "    plt.plot([i for i in np.arange(-1,4,0.1)], gs_probs[i], color = \"blue\" if gs[\"suppressed\"] else \"red\", linestyle='--' if gs[\"suppressed\"] else '-', label = \"\".join([unicode_map[c] for c in bin(gs[\"i\"])[2:].zfill(N)]))\n",
    "\n",
    "\n",
    "plt.title(\"toy model gs probabilities\")\n",
    "plt.xlabel(\"Log10 of total annealing time T\")\n",
    "plt.ylabel(\"Probability\")\n",
    "plt.legend()\n",
    "plt.show()"
   ]
  },
  {
   "cell_type": "code",
   "execution_count": null,
   "metadata": {},
   "outputs": [],
   "source": []
  }
 ],
 "metadata": {
  "kernelspec": {
   "display_name": "Python 3",
   "language": "python",
   "name": "python3"
  },
  "language_info": {
   "codemirror_mode": {
    "name": "ipython",
    "version": 3
   },
   "file_extension": ".py",
   "mimetype": "text/x-python",
   "name": "python",
   "nbconvert_exporter": "python",
   "pygments_lexer": "ipython3",
   "version": "3.11.7"
  }
 },
 "nbformat": 4,
 "nbformat_minor": 2
}
