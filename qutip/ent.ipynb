{
 "cells": [
  {
   "cell_type": "code",
   "execution_count": 1,
   "metadata": {},
   "outputs": [],
   "source": [
    "\n",
    "import matplotlib.pyplot as plt\n",
    "import numpy as np\n",
    "import itertools as it\n",
    "from math import pi\n",
    "     \n",
    "\n",
    "from qutip import *\n",
    "from scipy import *"
   ]
  },
  {
   "cell_type": "code",
   "execution_count": 14,
   "metadata": {},
   "outputs": [],
   "source": [
    "toy_models = {\n",
    "            \"1\":\n",
    "               {\n",
    "                   \"j_map\" : [[0,1,1,-1,0],[1,0,1,0,-1],[1,1,0,1,1],[-1,0,1,0,1],[0,-1,1,1,0]],\n",
    "                   \"gs_indeces\": [  {\"i\":0, \"suppressed\": True},\n",
    "                                    {\"i\":3, \"suppressed\": False},\n",
    "                                    {\"i\":7, \"suppressed\": False}]\n",
    "                   },\n",
    "            \"2\": {\n",
    "                    \"j_map\" : [[0,2,1,2,1],[2,0,-2,-1,1],[1,-2,0,1,2],[2,-1,1,0,-2],[1,1,2,-2,0]],\n",
    "                    \"gs_indeces\": [{\"i\":0, \"suppressed\": False},\n",
    "                                    {\"i\":2, \"suppressed\": False},\n",
    "                                    {\"i\":5, \"suppressed\": True},\n",
    "                                    {\"i\":6, \"suppressed\": False},\n",
    "                                    {\"i\":8, \"suppressed\": False},\n",
    "                                    {\"i\":9, \"suppressed\": False}]\n",
    "                },\n",
    "            \"3\": {\n",
    "                    \"j_map\" : [[0,0,1,0,0,0],[0,0,0,1,0,0],[1,0,0,-1,1,-1],[0,1,-1,0,1,-1],[0,0,1,1,0,1], [0,0,-1,-1,1,0]],\n",
    "                    \"gs_indeces\": [{\"i\":1, \"suppressed\": True},\n",
    "                                    {\"i\":20, \"suppressed\": False},\n",
    "                                    {\"i\":23, \"suppressed\": False}]\n",
    "                },\n",
    "\n",
    "            \"4\": {\n",
    "                    \"j_map\" : [[0,1,0,0],[0,0,-1,-1],[0,-1,0,-1],[0,-1,-1,0]],\n",
    "                    \"gs_indeces\": [{\"i\":1, \"suppressed\": True},\n",
    "                                    {\"i\":2, \"suppressed\": True},\n",
    "                                    {\"i\":3, \"suppressed\": False}]\n",
    "                },\n",
    "\n",
    "            \n",
    "            \n",
    "            }\n",
    "\n",
    "\n",
    "t_i = \"1\"\n",
    "\n",
    "model = toy_models[t_i]\n",
    "j_map = model[\"j_map\"]\n",
    "gs_indeces = model[\"gs_indeces\"]\n",
    "N = len(j_map[0])"
   ]
  },
  {
   "cell_type": "code",
   "execution_count": 17,
   "metadata": {},
   "outputs": [
    {
     "data": {
      "text/latex": [
       "Quantum object: dims=[[2, 2, 2, 2, 2], [1, 1, 1, 1, 1]], shape=(32, 1), type='ket', dtype=Dense$$\\left(\\begin{array}{cc}0.577\\\\0\\\\0\\\\0.577\\\\0\\\\\\vdots\\\\0\\\\0\\\\0\\\\0\\\\0\\end{array}\\right)$$"
      ],
      "text/plain": [
       "Quantum object: dims=[[2, 2, 2, 2, 2], [1, 1, 1, 1, 1]], shape=(32, 1), type='ket', dtype=Dense\n",
       "Qobj data =\n",
       "[[0.57735027]\n",
       " [0.        ]\n",
       " [0.        ]\n",
       " [0.57735027]\n",
       " [0.        ]\n",
       " [0.        ]\n",
       " [0.        ]\n",
       " [0.57735027]\n",
       " [0.        ]\n",
       " [0.        ]\n",
       " [0.        ]\n",
       " [0.        ]\n",
       " [0.        ]\n",
       " [0.        ]\n",
       " [0.        ]\n",
       " [0.        ]\n",
       " [0.        ]\n",
       " [0.        ]\n",
       " [0.        ]\n",
       " [0.        ]\n",
       " [0.        ]\n",
       " [0.        ]\n",
       " [0.        ]\n",
       " [0.        ]\n",
       " [0.        ]\n",
       " [0.        ]\n",
       " [0.        ]\n",
       " [0.        ]\n",
       " [0.        ]\n",
       " [0.        ]\n",
       " [0.        ]\n",
       " [0.        ]]"
      ]
     },
     "execution_count": 17,
     "metadata": {},
     "output_type": "execute_result"
    }
   ],
   "source": [
    "# Generate \"artificial\" fair sampling state\n",
    "\n",
    "N = len(toy_models[t_i][\"j_map\"][0])\n",
    "\n",
    "fair_sampling_gs = np.zeros([2**N,1])\n",
    "gs_size = len(toy_models[t_i][\"gs_indeces\"])\n",
    "\n",
    "\n",
    "\n",
    "for gs in toy_models[t_i][\"gs_indeces\"]:\n",
    "    fair_sampling_gs[gs[\"i\"]] = 1/np.sqrt(gs_size)\n",
    "    # fair_sampling_gs[(2**N) - 1 - gs[\"i\"]] = 1/np.sqrt(gs_size)\n",
    "\n",
    "\n",
    "fair_sampling_gs = Qobj(fair_sampling_gs, dims = [[2 for i in range(N)], [1 for i in range(N)]])\n",
    "# print(fair_sampling_gs)\n",
    "\n",
    "\n",
    "# fair_sampling_gs.ptrace(list([0,1,2]))\n",
    "fair_sampling_gs\n",
    "\n",
    "\n",
    "\n",
    "\n",
    "# entropy_vals = []\n",
    "# entropy_vals.append(\n",
    "#     [\n",
    "#         [bp,round(entropy_vn(fair_sampling_gs.ptrace(list(bp))),6)]\n",
    "#         for bp in list(it.combinations(range(N), int(np.ceil(N/2))))\n",
    "#     ]\n",
    "# )\n",
    "# entropy_vals"
   ]
  },
  {
   "cell_type": "code",
   "execution_count": null,
   "metadata": {},
   "outputs": [],
   "source": []
  }
 ],
 "metadata": {
  "kernelspec": {
   "display_name": "Python 3",
   "language": "python",
   "name": "python3"
  },
  "language_info": {
   "codemirror_mode": {
    "name": "ipython",
    "version": 3
   },
   "file_extension": ".py",
   "mimetype": "text/x-python",
   "name": "python",
   "nbconvert_exporter": "python",
   "pygments_lexer": "ipython3",
   "version": "3.12.2"
  }
 },
 "nbformat": 4,
 "nbformat_minor": 2
}
